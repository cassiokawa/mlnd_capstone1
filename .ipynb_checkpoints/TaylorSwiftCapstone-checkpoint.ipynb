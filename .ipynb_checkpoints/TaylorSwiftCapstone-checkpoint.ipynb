{
 "cells": [
  {
   "cell_type": "code",
   "execution_count": 47,
   "metadata": {},
   "outputs": [
    {
     "data": {
      "text/plain": [
       "'\\nTesting using Kaggle Taylor Swift song catalog to use Baggle of Words, TF-IDF for NLP code\\n'"
      ]
     },
     "execution_count": 47,
     "metadata": {},
     "output_type": "execute_result"
    }
   ],
   "source": [
    "import numpy as np\n",
    "import pandas as pd\n",
    "import matplotlib as mpl\n",
    "import sklearn\n",
    "\n",
    "'''\n",
    "Testing using Kaggle Taylor Swift song catalog to use Baggle of Words, TF-IDF for NLP code\n",
    "'''"
   ]
  },
  {
   "cell_type": "code",
   "execution_count": 48,
   "metadata": {},
   "outputs": [],
   "source": [
    "# Pulling data from Kaggle\n",
    "# !pip install -U -q kaggle\n",
    "# !mkdir -p ~/.kaggle\n",
    "\n",
    "# from google.colab import files\n",
    "# files.upload()\n",
    "\n",
    "# !cp kaggle.json ~/.kaggle/"
   ]
  },
  {
   "cell_type": "code",
   "execution_count": 49,
   "metadata": {},
   "outputs": [],
   "source": [
    "# !kaggle datasets list\n",
    "# !chmod 600 /root/.kaggle/kaggle.json\n",
    "\n",
    "# !kaggle datasets download -d PromptCloudHQ/taylor-swift-song-lyrics-from-all-the-albums\n",
    "# !ls"
   ]
  },
  {
   "cell_type": "code",
   "execution_count": 50,
   "metadata": {},
   "outputs": [],
   "source": [
    "# Importing data with pandas\n",
    "# import pandas as pd\n",
    "# data2 = pd.read_csv('taylor-swift-song-lyrics-from-all-the-albums.zip', compression='zip', header=0, sep=',', quotechar='\"')"
   ]
  },
  {
   "cell_type": "code",
   "execution_count": 51,
   "metadata": {},
   "outputs": [],
   "source": [
    "# Import the dependencies\n",
    "import numpy as np\n",
    "import pandas as pd\n",
    "import sys \n",
    "from keras.models import Sequential\n",
    "from keras.layers import LSTM, Activation, Flatten, Dropout, Dense, Embedding, TimeDistributed, CuDNNLSTM\n",
    "from keras.callbacks import ModelCheckpoint\n",
    "from keras.utils import np_utils"
   ]
  },
  {
   "cell_type": "code",
   "execution_count": 52,
   "metadata": {},
   "outputs": [
    {
     "data": {
      "text/html": [
       "<div>\n",
       "<style>\n",
       "    .dataframe thead tr:only-child th {\n",
       "        text-align: right;\n",
       "    }\n",
       "\n",
       "    .dataframe thead th {\n",
       "        text-align: left;\n",
       "    }\n",
       "\n",
       "    .dataframe tbody tr th {\n",
       "        vertical-align: top;\n",
       "    }\n",
       "</style>\n",
       "<table border=\"1\" class=\"dataframe\">\n",
       "  <thead>\n",
       "    <tr style=\"text-align: right;\">\n",
       "      <th></th>\n",
       "      <th>artist</th>\n",
       "      <th>album</th>\n",
       "      <th>track_title</th>\n",
       "      <th>track_n</th>\n",
       "      <th>lyric</th>\n",
       "      <th>line</th>\n",
       "      <th>year</th>\n",
       "    </tr>\n",
       "  </thead>\n",
       "  <tbody>\n",
       "    <tr>\n",
       "      <th>0</th>\n",
       "      <td>Taylor Swift</td>\n",
       "      <td>Taylor Swift</td>\n",
       "      <td>Tim McGraw</td>\n",
       "      <td>1</td>\n",
       "      <td>He said the way my blue eyes shined</td>\n",
       "      <td>1</td>\n",
       "      <td>2006</td>\n",
       "    </tr>\n",
       "    <tr>\n",
       "      <th>1</th>\n",
       "      <td>Taylor Swift</td>\n",
       "      <td>Taylor Swift</td>\n",
       "      <td>Tim McGraw</td>\n",
       "      <td>1</td>\n",
       "      <td>Put those Georgia stars to shame that night</td>\n",
       "      <td>2</td>\n",
       "      <td>2006</td>\n",
       "    </tr>\n",
       "    <tr>\n",
       "      <th>2</th>\n",
       "      <td>Taylor Swift</td>\n",
       "      <td>Taylor Swift</td>\n",
       "      <td>Tim McGraw</td>\n",
       "      <td>1</td>\n",
       "      <td>I said, \"That's a lie\"</td>\n",
       "      <td>3</td>\n",
       "      <td>2006</td>\n",
       "    </tr>\n",
       "    <tr>\n",
       "      <th>3</th>\n",
       "      <td>Taylor Swift</td>\n",
       "      <td>Taylor Swift</td>\n",
       "      <td>Tim McGraw</td>\n",
       "      <td>1</td>\n",
       "      <td>Just a boy in a Chevy truck</td>\n",
       "      <td>4</td>\n",
       "      <td>2006</td>\n",
       "    </tr>\n",
       "    <tr>\n",
       "      <th>4</th>\n",
       "      <td>Taylor Swift</td>\n",
       "      <td>Taylor Swift</td>\n",
       "      <td>Tim McGraw</td>\n",
       "      <td>1</td>\n",
       "      <td>That had a tendency of gettin' stuck</td>\n",
       "      <td>5</td>\n",
       "      <td>2006</td>\n",
       "    </tr>\n",
       "  </tbody>\n",
       "</table>\n",
       "</div>"
      ],
      "text/plain": [
       "         artist         album track_title  track_n  \\\n",
       "0  Taylor Swift  Taylor Swift  Tim McGraw        1   \n",
       "1  Taylor Swift  Taylor Swift  Tim McGraw        1   \n",
       "2  Taylor Swift  Taylor Swift  Tim McGraw        1   \n",
       "3  Taylor Swift  Taylor Swift  Tim McGraw        1   \n",
       "4  Taylor Swift  Taylor Swift  Tim McGraw        1   \n",
       "\n",
       "                                         lyric  line  year  \n",
       "0          He said the way my blue eyes shined     1  2006  \n",
       "1  Put those Georgia stars to shame that night     2  2006  \n",
       "2                       I said, \"That's a lie\"     3  2006  \n",
       "3                  Just a boy in a Chevy truck     4  2006  \n",
       "4         That had a tendency of gettin' stuck     5  2006  "
      ]
     },
     "execution_count": 52,
     "metadata": {},
     "output_type": "execute_result"
    }
   ],
   "source": [
    "# from zipfile import ZipFile\n",
    "# zip_file = ZipFile('taylor-swift-song-lyrics-from-all-the-albums.zip')\n",
    "fields= ['artist','album', 'year','track_title', 'track_n','line', 'lyric'] \n",
    "# data=pd.read_csv('taylor_swift_lyrics.csv',encoding='utf-8')\n",
    "data=pd.read_csv('taylor_swift_lyrics.csv',encoding='cp1252')\n",
    "\n",
    "data.head()"
   ]
  },
  {
   "cell_type": "code",
   "execution_count": 53,
   "metadata": {
    "collapsed": true
   },
   "outputs": [],
   "source": [
    "dataset = data\n",
    "\n",
    "\n",
    "dataset.head()\n",
    "dataset.describe()\n",
    "\n",
    "\n",
    "# Quite a bit of data pre-processing before we can apply any NLP algo.  In order to create a text with all lyrics in one string it is necessary to concatenate the lines of each song.\n",
    "def concat1stLine(lyrics, songID, songNM, row):\n",
    "    lyrics.append(row['lyric'] + '\\n')\n",
    "    songID.append( row['year']*100+ row['track_n'])\n",
    "    songNM.append(row['track_title'])\n",
    "    return lyrics,songID,songNM"
   ]
  },
  {
   "cell_type": "code",
   "execution_count": 54,
   "metadata": {
    "collapsed": true
   },
   "outputs": [],
   "source": [
    "# create collections \n",
    "lyrics = []\n",
    "songID = []\n",
    "songNM = []\n",
    "\n",
    "# songNum indicates the song number in the dataset\n",
    "songNum = 1\n",
    "\n",
    "# i indicates the song number\n",
    "i = 0\n",
    "isFirstLine = True\n"
   ]
  },
  {
   "cell_type": "code",
   "execution_count": 55,
   "metadata": {
    "collapsed": true
   },
   "outputs": [],
   "source": [
    "# join sentences into lyrics \n",
    "for index,row in dataset.iterrows():\n",
    "    if(songNum == row['track_n']):\n",
    "        # new song         \n",
    "        if (isFirstLine):\n",
    "            lyrics,songID,songNM = concat1stLine(lyrics,songID,songNM,row)\n",
    "            isFirstLine = False\n",
    "        else :\n",
    "        #same song concat lines and enter next\n",
    "            lyrics[i] +=  row['lyric'] + '\\n'\n",
    "          \n",
    "    #next song :    \n",
    "    else :\n",
    "        lyrics,songID,songNM = concat1stLine(lyrics,songID,songNM,row)\n",
    "        songNum = row['track_n']\n",
    "        i=i+1\n"
   ]
  },
  {
   "cell_type": "code",
   "execution_count": 56,
   "metadata": {
    "collapsed": true
   },
   "outputs": [],
   "source": [
    "# Define a new pandas DataFrame to save songID , songNM , Lyrics in it to use them later\n",
    "lyrics_data = pd.DataFrame({'songID':songID, 'songNM':songNM, 'lyrics':lyrics })\n",
    "\n",
    "# Now save the lyrics in a text file to use it in the LSTM RNN\n",
    "\n",
    "# Save Lyrics in .txt file\n",
    "with open('lyricsText.txt', 'w') as filehandle:  \n",
    "\n",
    "# with open('lyricsText.txt', 'w',encoding=\"utf-8\") as filehandle:  \n",
    "    for listitem in lyrics:\n",
    "        filehandle.write('%s\\n' % listitem)\n"
   ]
  },
  {
   "cell_type": "code",
   "execution_count": 57,
   "metadata": {
    "collapsed": true
   },
   "outputs": [],
   "source": [
    "# Load the dataset and convert it to lowercase :\n",
    "textFileName = 'lyricsText.txt'\n",
    "# raw_text = open(textFileName, encoding = 'UTF-8').read()\n",
    "raw_text = open(textFileName).read()\n",
    "\n",
    "raw_text = raw_text.lower()\n"
   ]
  },
  {
   "cell_type": "code",
   "execution_count": 58,
   "metadata": {},
   "outputs": [
    {
     "name": "stdout",
     "output_type": "stream",
     "text": [
      "Total Characters :  173698\n",
      "Total Vocab :  58\n"
     ]
    }
   ],
   "source": [
    "# Mapping chars to ints :\n",
    "chars = sorted(list(set(raw_text)))\n",
    "int_chars = dict((i, c) for i, c in enumerate(chars))\n",
    "chars_int = dict((i, c) for c, i in enumerate(chars))\n",
    "\n",
    "\n",
    "# Get number of chars and vocab in our text :\n",
    "n_chars = len(raw_text)\n",
    "n_vocab = len(chars)\n",
    "\n",
    "print('Total Characters : ' , n_chars) # number of all the characters in lyricsText.txt\n",
    "print('Total Vocab : ', n_vocab) # number of unique characters\n"
   ]
  },
  {
   "cell_type": "code",
   "execution_count": 59,
   "metadata": {},
   "outputs": [
    {
     "name": "stdout",
     "output_type": "stream",
     "text": [
      "Total Patterns :  173598\n"
     ]
    }
   ],
   "source": [
    "# process the dataset:\n",
    "seq_len = 100\n",
    "data_X = []\n",
    "data_y = []\n",
    "\n",
    "for i in range(0, n_chars - seq_len, 1):\n",
    "    # Input Sequeance(will be used as samples)\n",
    "    seq_in  = raw_text[i:i+seq_len]\n",
    "    # Output sequence (will be used as target)\n",
    "    seq_out = raw_text[i + seq_len]\n",
    "    # Store samples in data_X\n",
    "    data_X.append([chars_int[char] for char in seq_in])\n",
    "    # Store targets in data_y\n",
    "    data_y.append(chars_int[seq_out])\n",
    "n_patterns = len(data_X)\n",
    "print( 'Total Patterns : ', n_patterns)\n"
   ]
  },
  {
   "cell_type": "code",
   "execution_count": 60,
   "metadata": {
    "collapsed": true
   },
   "outputs": [],
   "source": [
    "# Reshape X to be suitable to go into LSTM RNN :\n",
    "X = np.reshape(data_X , (n_patterns, seq_len, 1))\n",
    "# Normalizing input data :\n",
    "X = X/ float(n_vocab)\n",
    "# One hot encode the output targets :\n",
    "y = np_utils.to_categorical(data_y)\n"
   ]
  },
  {
   "cell_type": "code",
   "execution_count": 62,
   "metadata": {
    "collapsed": true
   },
   "outputs": [],
   "source": [
    "LSTM_layer_num = 4 # number of LSTM layers\n",
    "layer_size = [256,256,256,256] # number of nodes in each layer\n"
   ]
  },
  {
   "cell_type": "code",
   "execution_count": 63,
   "metadata": {},
   "outputs": [
    {
     "name": "stdout",
     "output_type": "stream",
     "text": [
      "['00', '14', '17', '18', '203d', '22', '2am', '30', '32', '45', '4th', '58', '9th', 'aah', 'abigail', 'about', 'above', 'absent', 'absurd', 'accused', 'ace', 'achilles', 'aching', 'acing', 'across', 'act', 'acted', 'actress', 'actually', 'add', 'admit', 'adore', 'affair', 'afraid', 'after', 'again', 'against', 'age', 'aglow', 'ago', 'ah', 'ahead', 'ahh', 'aids', 'ain', 'air', 'airplanes', 'aisle', 'album', 'aligned', 'alive', 'all', 'almost', 'alone', 'along', 'already', 'alright', 'always', 'am', 'ambition', 'amen', 'american', 'amount', 'amp', 'an', 'and', 'angel', 'another', 'answer', 'anthem', 'anticipation', 'any', 'anybody', 'anymore', 'anyone', 'anything', 'anyway', 'anywhere', 'apart', 'apartment', 'apologies', 'apology', 'applause', 'are', 'aren', 'argue', 'arm', 'armor', 'arms', 'around', 'as', 'aside', 'ask', 'asked', 'asking', 'asleep', 'at', 'attached', 'attitude', 'autumn', 'avalanche', 'avoid', 'awake', 'away', 'axe', 'ayy', 'babe', 'babies', 'baby', 'back', 'backroads', 'backyard', 'bad', 'bag', 'bags', 'balance', 'balcony', 'ball', 'band', 'bang', 'bar', 'barging', 'baseball', 'bass', 'bathroom', 'bathtub', 'battle', 'be', 'beach', 'beat', 'beating', 'beautiful', 'beauty', 'because', 'become', 'becomes', 'bed', 'bedpost', 'bedroom', 'beds', 'been', 'beer', 'before', 'beg', 'beggin', 'begging', 'begin', 'beginning', 'begins', 'behind', 'bein', 'being', 'believe', 'believed', 'believing', 'belong', 'belonged', 'belt', 'bench', 'beneath', 'beside', 'best', 'bet', 'better', 'between', 'big', 'bigger', 'bills', 'birthday', 'bit', 'bitter', 'bittersweet', 'black', 'blame', 'blank', 'bleached', 'bleachers', 'bleeds', 'blew', 'blind', 'blinding', 'blink', 'block', 'blocked', 'blood', 'blow', 'blue', 'blues', 'bluff', 'blurry', 'blushing', 'boarded', 'boardwalk', 'boat', 'bobby', 'body', 'bone', 'bones', 'bonnie', 'book', 'bored', 'born', 'both', 'bother', 'bottles', 'bought', 'bout', 'box', 'boxes', 'boy', 'boyfriend', 'boys', 'braced', 'brain', 'brakes', 'brand', 'brave', 'break', 'breakdown', 'breakfast', 'breakin', 'breaking', 'breath', 'breathe', 'breathless', 'breeze', 'bricks', 'bride', 'bridesmaid', 'bridges', 'briefcase', 'bright', 'bring', 'broke', 'broken', 'brother', 'brought', 'brown', 'brush', 'build', 'built', 'bullet', 'bulletproof', 'bump', 'bunch', 'burn', 'burned', 'burnin', 'burning', 'burnt', 'burst', 'burton', 'bury', 'busier', 'business', 'busy', 'but', 'butterflies', 'buttons', 'buzzcut', 'by', 'cab', 'cabs', 'cafe', 'cage', 'cages', 'call', 'called', 'callin', 'calling', 'calls', 'calm', 'came', 'camera', 'can', 'candle', 'candlelight', 'cannon', 'cap', 'captain', 'captivated', 'capture', 'car', 'card', 'cards', 'care', 'careful', 'careless', 'carry', 'carrying', 'cars', 'carve', 'case', 'castle', 'casually', 'cat', 'catch', 'catching', 'cats', 'caught', 'cause', 'chain', 'chair', 'chalkboard', 'champagne', 'champions', 'chance', 'chances', 'chandelier', 'change', 'changed', 'changer', 'changing', 'chapter', 'charming', 'chase', 'chasing', 'cheats', 'check', 'cheek', 'cheeks', 'cheer', 'cherry', 'cheshire', 'chess', 'chest', 'chevy', 'childhood', 'children', 'chill', 'chips', 'choice', 'choices', 'choose', 'chose', 'christmas', 'church', 'circling', 'circus', 'cities', 'city', 'class', 'classic', 'classroom', 'clean', 'cleaning', 'clear', 'close', 'closer', 'clothes', 'clouds', 'club', 'clyde', 'coaster', 'coat', 'coats', 'code', 'coffee', 'cold', 'colder', 'college', 'color', 'colors', 'comb', 'come', 'comes', 'comfortable', 'comin', 'coming', 'comparison', 'complicated', 'complication', 'compliment', 'concerned', 'condescending', 'condition', 'confess', 'confetti', 'confused', 'consequence', 'consider', 'contest', 'control', 'conversation', 'cool', 'cooler', 'core', 'corner', 'cornered', 'cory', 'couch', 'could', 'couldn', 'count', 'counter', 'counting', 'cover', 'covered', 'covers', 'crashed', 'crashing', 'crawl', 'crawling', 'crazy', 'creek', 'creeping', 'crept', 'crickets', 'cried', 'crime', 'crimes', 'crimson', 'crooked', 'cross', 'crossing', 'crossword', 'crowd', 'crowded', 'crowds', 'crown', 'cruel', 'cruelest', 'cruisin', 'crumbled', 'crumpled', 'crush', 'cry', 'cryin', 'crying', 'crystal', 'cups', 'curious', 'currents', 'cursed', 'cursing', 'curtains', 'cut', 'cuts', 'cycle', 'cynics', 'da', 'dad', 'daddies', 'daddy', 'daisy', 'damn', 'dance', 'danced', 'dancing', 'danger', 'dangerous', 'dared', 'dark', 'darkened', 'darker', 'darkest', 'darkness', 'darlin', 'darling', 'date', 'dated', 'dates', 'dating', 'daughter', 'day', 'daydream', 'days', 'dead', 'deadlines', 'dealing', 'dean', 'dear', 'death', 'decade', 'deceiving', 'december', 'decide', 'decided', 'deep', 'deepest', 'defending', 'delicate', 'demons', 'deny', 'desert', 'deserve', 'desperately', 'diamonds', 'did', 'didn', 'die', 'died', 'different', 'difficult', 'dignity', 'dimming', 'dirty', 'disappear', 'disappeared', 'disappearing', 'disapproves', 'discovered', 'disposition', 'distance', 'ditch', 'dive', 'divide', 'do', 'does', 'doesn', 'doin', 'doing', 'don', 'done', 'door', 'doors', 'doorstep', 'doorway', 'dope', 'doubt', 'down', 'downtown', 'drag', 'dragons', 'drama', 'dramatic', 'drawer', 'dream', 'dreamed', 'dreamer', 'dreaming', 'dreams', 'dress', 'dressed', 'dresses', 'dressing', 'drew', 'drink', 'drinkin', 'drinking', 'drive', 'drives', 'drivin', 'driving', 'drop', 'dropped', 'dropping', 'drops', 'drought', 'drove', 'drown', 'drowning', 'drug', 'drum', 'drunk', 'dry', 'duchess', 'dumb', 'dust', 'dwarfs', 'dyin', 'dying', 'each', 'early', 'earthquakes', 'ease', 'easier', 'easily', 'east', 'easy', 'echo', 'echoed', 'echoes', 'ed', 'eee', 'eh', 'eight', 'eighty', 'either', 'electrified', 'elevator', 'else', 'em', 'embers', 'empty', 'enchanted', 'enchanting', 'end', 'endearing', 'ended', 'ending', 'endings', 'ends', 'enemies', 'enough', 'erasing', 'escape', 'even', 'ever', 'every', 'everybody', 'everyday', 'everyone', 'everything', 'everytime', 'ew', 'ex', 'exactly', 'excellent', 'exception', 'exchanged', 'exciting', 'exes', 'exhausting', 'expect', 'expecting', 'expensive', 'expert', 'explain', 'extra', 'ey', 'eye', 'eyed', 'eyelids', 'eyes', 'face', 'fade', 'faded', 'fades', 'fading', 'failure', 'fair', 'fairytale', 'faith', 'fake', 'fakers', 'faking', 'fall', 'falling', 'fallout', 'falls', 'fame', 'familiar', 'family', 'fancy', 'fantasy', 'far', 'fashioned', 'fast', 'faster', 'fate', 'father', 'favorite', 'fear', 'fearless', 'fears', 'feast', 'feel', 'feeling', 'feelings', 'feels', 'feet', 'fell', 'fella', 'felt', 'fence', 'fences', 'few', 'field', 'fifteen', 'fifty', 'fight', 'fighting', 'fights', 'figure', 'figured', 'filled', 'final', 'finally', 'find', 'finding', 'finds', 'fine', 'finger', 'fingers', 'finish', 'fire', 'firefly', 'firework', 'fireworks', 'first', 'fit', 'five', 'fix', 'flame', 'flames', 'flash', 'flashback', 'flashbacks', 'flashes', 'flashing', 'flawless', 'flaws', 'flew', 'flickered', 'flight', 'floats', 'flood', 'floor', 'floors', 'flow', 'flowers', 'flutter', 'fly', 'flyin', 'flying', 'focus', 'follow', 'followed', 'fond', 'fool', 'football', 'footsteps', 'for', 'forbid', 'force', 'forcing', 'fore', 'forever', 'forevermore', 'forget', 'forgets', 'forgetting', 'forgiveness', 'forgotten', 'forth', 'forts', 'fortune', 'forward', 'fought', 'found', 'four', 'foxes', 'foyer', 'fragile', 'frames', 'freckles', 'free', 'freedom', 'fresh', 'freshman', 'friction', 'friday', 'friend', 'friends', 'from', 'front', 'frown', 'frozen', 'frustrated', 'frustrating', 'full', 'fun', 'funny', 'furious', 'furniture', 'fuss', 'future', 'g5', 'game', 'games', 'gap', 'garden', 'gary', 'gates', 'gatsby', 'gave', 'gay', 'gaze', 'georgia', 'gestures', 'get', 'getaway', 'gets', 'gettin', 'getting', 'ghost', 'ghosts', 'girl', 'girlfriend', 'girls', 'git', 'give', 'given', 'gives', 'giving', 'glad', 'glance', 'glasses', 'glisten', 'glitter', 'gloss', 'glow', 'glowing', 'go', 'god', 'goes', 'going', 'gold', 'golden', 'gon', 'gone', 'gonna', 'good', 'goodbye', 'goodnight', 'gorgeous', 'got', 'gotta', 'gown', 'gowns', 'grab', 'grabbed', 'grace', 'granted', 'gravity', 'gray', 'great', 'greater', 'green', 'grew', 'grey', 'grip', 'groceries', 'groovin', 'ground', 'grow', 'growing', 'grown', 'grumbling', 'guard', 'guarded', 'guess', 'guessin', 'guessing', 'guitar', 'gun', 'gunfight', 'guns', 'guys', 'ha', 'haa', 'had', 'hadn', 'haha', 'hair', 'half', 'halfway', 'hall', 'hallelujah', 'hallway', 'halo', 'hand', 'hands', 'handshake', 'handsome', 'handwritten', 'hang', 'hanging', 'happen', 'happened', 'happens', 'happiness', 'happy', 'hard', 'harder', 'hardwood', 'has', 'hasn', 'hatchets', 'hate', 'haters', 'haunt', 'haunted', 'have', 'haven', 'having', 'he', 'head', 'headlights', 'headphones', 'heal', 'health', 'hear', 'heard', 'heart', 'heartbeat', 'heartbeats', 'heartbreak', 'heartbreakers', 'heartbreaks', 'hearts', 'heat', 'heaven', 'heel', 'heels', 'hehe', 'heist', 'held', 'hell', 'hella', 'hello', 'helmet', 'help', 'helped', 'her', 'here', 'hero', 'hey', 'hi', 'hide', 'hiding', 'high', 'highest', 'highlight', 'him', 'himself', 'hindsight', 'hipsters', 'his', 'history', 'hit', 'hits', 'hmm', 'ho', 'hold', 'holdin', 'holding', 'hole', 'holes', 'hollywood', 'holy', 'home', 'honest', 'honestly', 'honey', 'hope', 'hopeful', 'hopelessly', 'hopes', 'hoping', 'horrified', 'horse', 'hospital', 'hostage', 'hot', 'hours', 'house', 'how', 'hug', 'huh', 'humiliation', 'humor', 'hung', 'hunters', 'hurt', 'hurts', 'ice', 'ide', 'idea', 'if', 'ignore', 'ignored', 'illusionist', 'imagine', 'imagined', 'impossible', 'impress', 'impressed', 'in', 'incredible', 'indentation', 'indie', 'indulgent', 'inescapable', 'initial', 'innocence', 'innocent', 'insane', 'insecurities', 'inside', 'insincerity', 'instantly', 'instead', 'interruptions', 'into', 'intoxicating', 'invisible', 'irrational', 'is', 'island', 'isn', 'issue', 'issues', 'it', 'its', 'ivy', 'jaguars', 'jailer', 'james', 'jealous', 'jealousy', 'jeans', 'jet', 'john', 'join', 'joke', 'jokers', 'judge', 'juliet', 'july', 'jump', 'jumping', 'jumps', 'jungle', 'jury', 'just', 'kaleidoscope', 'karma', 'keep', 'keeping', 'keeps', 'kept', 'keys', 'kid', 'kidding', 'kids', 'killer', 'killing', 'kind', 'kinda', 'king', 'kingdom', 'kings', 'kiss', 'kissed', 'kisses', 'kissing', 'kitchen', 'knee', 'knees', 'knelt', 'knew', 'knife', 'knives', 'knocked', 'know', 'knowing', 'known', 'knows', 'la', 'lady', 'lake', 'land', 'lantern', 'last', 'lasted', 'lasts', 'late', 'lately', 'later', 'laugh', 'laughing', 'laughs', 'laughter', 'lay', 'lead', 'leads', 'learn', 'learned', 'least', 'leave', 'leaves', 'leaving', 'left', 'legend', 'legs', 'less', 'lesson', 'let', 'lets', 'letter', 'letters', 'letting', 'liar', 'liars', 'lie', 'lies', 'life', 'lifeless', 'lifeline', 'light', 'lightbody', 'lighthearted', 'lightning', 'lights', 'like', 'liked', 'line', 'lines', 'lingering', 'lip', 'lips', 'lipstick', 'liquor', 'list', 'listen', 'listened', 'listening', 'lit', 'little', 'live', 'lived', 'lives', 'living', 'll', 'lobby', 'lock', 'locked', 'locket', 'locking', 'london', 'lonely', 'long', 'look', 'looked', 'lookin', 'looking', 'looks', 'loose', 'lord', 'lose', 'loses', 'losing', 'lost', 'lot', 'loud', 'love', 'loved', 'lovely', 'lover', 'lovers', 'loves', 'lovin', 'loving', 'low', 'lucky', 'lunchbox', 'lungs', 'lurking', 'luxury', 'lyin', 'lying', 'mad', 'made', 'madison', 'madness', 'magazine', 'magic', 'magical', 'magician', 'magnetic', 'mail', 'make', 'makes', 'makin', 'making', 'mama', 'mamas', 'man', 'mansion', 'many', 'maps', 'march', 'mark', 'marks', 'married', 'marry', 'marrying', 'marvelous', 'mascara', 'maserati', 'masterpiece', 'match', 'matches', 'matter', 'mattress', 'may', 'maybe', 'mcgraw', 'me', 'mean', 'means', 'meant', 'meet', 'meeting', 'memories', 'memorize', 'memorizing', 'memory', 'mended', 'mending', 'mess', 'messed', 'met', 'middle', 'midnight', 'midnights', 'might', 'million', 'mind', 'mindedly', 'mindless', 'minds', 'mine', 'minute', 'miracle', 'mirror', 'miscommunications', 'miserable', 'miss', 'missed', 'missing', 'mission', 'mistake', 'mistakes', 'mm', 'mmhm', 'mmm', 'mmmm', 'mom', 'moment', 'moments', 'momma', 'mon', 'money', 'monsters', 'month', 'months', 'moon', 'more', 'morning', 'mortified', 'mosaic', 'most', 'motel', 'mother', 'motion', 'motown', 'mountains', 'move', 'moved', 'moves', 'movie', 'movies', 'movin', 'moving', 'much', 'music', 'must', 'my', 'myself', 'mystery', 'na', 'nails', 'naive', 'name', 'named', 'names', 'napkin', 'narcissist', 'nasty', 'national', 'near', 'neck', 'necklace', 'need', 'needed', 'needing', 'nerve', 'nervously', 'never', 'new', 'newest', 'news', 'next', 'nice', 'nick', 'night', 'nightmare', 'nights', 'nightstand', 'nikes', 'nine', 'nines', 'nineteen', 'no', 'nobody', 'noise', 'nonchalant', 'none', 'not', 'notch', 'note', 'notes', 'nothin', 'nothing', 'notice', 'notices', 'november', 'now', 'nowhere', 'number', 'oasis', 'obsession', 'obsessive', 'obvious', 'occasion', 'occurred', 'occurring', 'ocean', 'of', 'off', 'office', 'oh', 'ohwho', 'ok', 'okay', 'old', 'older', 'on', 'once', 'one', 'ones', 'only', 'onto', 'oo', 'ooh', 'open', 'opens', 'opinion', 'optimism', 'or', 'organ', 'other', 'ought', 'our', 'ours', 'ourselves', 'out', 'outnumbered', 'outraged', 'outside', 'outskirts', 'outta', 'over', 'overdose', 'overnight', 'owe', 'own', 'owns', 'paced', 'paces', 'pacin', 'pacing', 'page', 'pageant', 'pain', 'paint', 'painted', 'painting', 'palm', 'pane', 'paper', 'papers', 'parade', 'paradise', 'paralyzed', 'paranoia', 'parents', 'park', 'parking', 'part', 'parties', 'party', 'pass', 'passed', 'passenger', 'passing', 'passionate', 'passport', 'past', 'pastel', 'pastry', 'patch', 'path', 'pathetic', 'patience', 'patiently', 'pauses', 'pavement', 'pay', 'peace', 'pebbles', 'pen', 'penny', 'people', 'perfect', 'perfectly', 'permanent', 'persona', 'phantom', 'phone', 'photo', 'pick', 'picked', 'pickin', 'picking', 'pickup', 'picture', 'pictures', 'piece', 'pieces', 'pierce', 'pining', 'pirate', 'pitchforks', 'pj', 'place', 'places', 'plaid', 'plain', 'plan', 'plane', 'planned', 'planning', 'plastic', 'play', 'playboy', 'played', 'players', 'playful', 'playground', 'playing', 'playthings', 'please', 'pocket', 'pockets', 'poems', 'point', 'pointed', 'poison', 'poisoned', 'poker', 'polaroid', 'polaroids', 'pool', 'porch', 'pouring', 'praying', 'preacher', 'precede', 'precedes', 'prep', 'present', 'pretend', 'pretended', 'pretenders', 'pretending', 'pretends', 'prettiest', 'pretty', 'previously', 'price', 'pride', 'prince', 'princess', 'princesses', 'prints', 'priorities', 'prison', 'probably', 'problems', 'promise', 'promises', 'proof', 'proposition', 'protect', 'proudly', 'psycho', 'pull', 'pulled', 'pulling', 'pumpkin', 'punched', 'push', 'pushed', 'pushing', 'put', 'puts', 'putting', 'queen', 'queens', 'question', 'quick', 'quiet', 'quite', 'rabbit', 'radio', 'raided', 'rain', 'rained', 'rains', 'rainstorm', 'rainy', 'ran', 'range', 'ransom', 'ranting', 'rare', 'rather', 'rattling', 're', 'reach', 'reached', 'reaching', 'read', 'reading', 'ready', 'real', 'realize', 'realized', 'realizing', 'really', 'rear', 'reason', 'reasons', 'rebel', 'rebounds', 'recall', 'receipts', 'reckless', 'recognize', 'reconnected', 'record', 'records', 'red', 'redhead', 'redneck', 'reflects', 'refrigerator', 'regret', 'regretting', 'remarks', 'remember', 'remembered', 'remembering', 'remind', 'reminds', 'reminiscing', 'repeating', 'reply', 'reputation', 'reputations', 'request', 'resist', 'respects', 'responsibility', 'rest', 'revenge', 'revolution', 'revolved', 'rhyme', 'rid', 'riddles', 'ride', 'rides', 'ridin', 'riding', 'right', 'ring', 'ripped', 'risk', 'riviera', 'road', 'roads', 'robber', 'rock', 'rocks', 'role', 'roll', 'rolled', 'roller', 'romantic', 'romantics', 'romeo', 'roof', 'room', 'rose', 'roses', 'rosy', 'rough', 'round', 'rovers', 'rub', 'rude', 'rudely', 'ruin', 'ruined', 'rule', 'rules', 'rumors', 'run', 'runnin', 'running', 'runs', 'rush', 'rushes', 'rusted', 'ruthless', 'sabotage', 'sacred', 'sad', 'saddest', 'safe', 'said', 'saint', 'salt', 'salute', 'same', 'sand', 'sang', 'save', 'saved', 'saw', 'say', 'sayin', 'saying', 'says', 'scar', 'scared', 'scarf', 'scarlet', 'scarred', 'scars', 'scene', 'school', 'scratches', 'screamed', 'screamin', 'screaming', 'screams', 'screen', 'sea', 'searched', 'searching', 'seat', 'second', 'secrecy', 'secret', 'secrets', 'see', 'seem', 'seemed', 'seems', 'seen', 'self', 'send', 'senior', 'sense', 'sensible', 'september', 'septembers', 'set', 'setting', 'seven', 'shade', 'shades', 'shadows', 'shady', 'shake', 'shakin', 'shaking', 'shame', 'shape', 'shaped', 'share', 'shattered', 'she', 'sheeran', 'shifting', 'shine', 'shined', 'shines', 'shining', 'shiny', 'ships', 'shirt', 'shirts', 'shit', 'shoes', 'shop', 'short', 'shot', 'shotgun', 'shots', 'should', 'shoulda', 'shoulders', 'shouldn', 'show', 'showed', 'showing', 'shy', 'si', 'sick', 'side', 'sides', 'sideshow', 'sidewalk', 'sight', 'sights', 'sign', 'signs', 'silence', 'silent', 'silhouette', 'simple', 'sin', 'since', 'sing', 'singing', 'single', 'sink', 'sinking', 'sinks', 'sirens', 'sister', 'sit', 'sittin', 'sitting', 'six', 'sixteen', 'sixties', 'sized', 'skies', 'skin', 'skip', 'skippin', 'skirt', 'skirts', 'sky', 'slamming', 'slates', 'sleep', 'sleeping', 'sleepless', 'sleeve', 'sleeves', 'slept', 'slicked', 'slipping', 'slope', 'slow', 'slowly', 'small', 'smart', 'smarter', 'smell', 'smells', 'smile', 'smiled', 'smiles', 'smiling', 'sneak', 'sneakers', 'sneakin', 'snide', 'snotty', 'snow', 'snowglobe', 'snuck', 'so', 'sober', 'soft', 'solve', 'some', 'somebody', 'someday', 'somehow', 'someone', 'something', 'sometimes', 'somewhere', 'song', 'songs', 'soon', 'sophistication', 'sorry', 'soul', 'sound', 'sounded', 'sounds', 'soundtrack', 'space', 'sparkin', 'sparkling', 'sparks', 'speak', 'speaking', 'speculate', 'spend', 'spending', 'spends', 'spent', 'spilling', 'spin', 'spinning', 'spite', 'splashed', 'spot', 'spotlight', 'sprung', 'square', 'squeeze', 'stabbed', 'stage', 'stained', 'staircase', 'stairs', 'stairwell', 'stakes', 'stand', 'standin', 'standing', 'stands', 'star', 'stare', 'stares', 'staring', 'starlight', 'starring', 'starry', 'stars', 'start', 'started', 'starting', 'starts', 'state', 'stay', 'stayed', 'staying', 'stealing', 'steering', 'step', 'stephen', 'steps', 'still', 'stitches', 'stoked', 'stole', 'stolen', 'stomach', 'stood', 'stop', 'stopped', 'stopping', 'stops', 'stories', 'storm', 'storms', 'story', 'storyline', 'straight', 'stranded', 'strange', 'stranger', 'strangers', 'straw', 'streak', 'stream', 'streaming', 'street', 'streets', 'strength', 'strike', 'string', 'strong', 'stronger', 'struck', 'struggle', 'stuck', 'stuff', 'stumble', 'stumbled', 'stupid', 'style', 'such', 'suddenly', 'suit', 'summer', 'summers', 'sun', 'sunday', 'sunset', 'sunshine', 'superman', 'supposed', 'sure', 'surely', 'surprise', 'suspected', 'swallowing', 'swaying', 'swear', 'sweep', 'sweet', 'swept', 'swerve', 'swift', 'swimming', 'swing', 'swings', 'switch', 'switched', 'switching', 'swords', 'swore', 'ta', 'tables', 'tails', 'take', 'taken', 'takers', 'takes', 'taking', 'talk', 'talked', 'talking', 'talks', 'tall', 'tame', 'tan', 'tangled', 'tapping', 'taste', 'tattoo', 'tattoos', 'taught', 'taxi', 'taylor', 'teach', 'team', 'tear', 'teardrops', 'tears', 'tee', 'teeth', 'tell', 'telling', 'tells', 'temper', 'ten', 'tendency', 'terrible', 'terribly', 'tests', 'than', 'thankin', 'that', 'the', 'their', 'theirs', 'them', 'then', 'there', 'therein', 'these', 'they', 'thief', 'thieves', 'thing', 'things', 'think', 'thinkin', 'thinking', 'thinks', 'third', 'thirst', 'thirteen', 'this', 'thorns', 'those', 'though', 'thought', 'thoughts', 'thousand', 'three', 'threw', 'through', 'throw', 'throwing', 'thrown', 'ticking', 'tides', 'tie', 'tied', 'ties', 'tight', 'tightrope', 'til', 'till', 'tilted', 'tim', 'time', 'times', 'timing', 'tip', 'tired', 'to', 'toast', 'today', 'together', 'told', 'tomorrow', 'tongue', 'tonight', 'too', 'took', 'top', 'tore', 'torture', 'tossing', 'touch', 'touchin', 'touching', 'tough', 'town', 'toyin', 'toys', 'trace', 'track', 'tracks', 'tractor', 'traded', 'traffic', 'tragedy', 'tragic', 'train', 'trained', 'trains', 'traitors', 'traits', 'trampled', 'translation', 'traveled', 'treacherous', 'treat', 'tree', 'trees', 'trend', 'trick', 'tricks', 'tried', 'trip', 'trippin', 'trophies', 'trouble', 'troubling', 'truck', 'true', 'trust', 'trusted', 'trusts', 'truth', 'try', 'tryin', 'trying', 'tryna', 'tuck', 'tuesday', 'tune', 'turn', 'turned', 'turning', 'turns', 'tux', 'twenty', 'twice', 'twin', 'twist', 'twisted', 'twistin', 'twisting', 'two', 'type', 'typical', 'uh', 'unbelievable', 'unbroken', 'under', 'underestimated', 'underlined', 'understand', 'understands', 'undone', 'uninvited', 'unless', 'unresolved', 'until', 'up', 'upon', 'upper', 'upset', 'upstanding', 'upstate', 'us', 'use', 'used', 'usin', 'usual', 'usually', 'vacancy', 'vacant', 'vanished', 've', 'veil', 'vendetta', 'verdict', 'version', 'very', 'video', 'view', 'views', 'village', 'vine', 'vintage', 'violin', 'voice', 'vow', 'vows', 'vultures', 'waistline', 'wait', 'waited', 'waiting', 'waits', 'wake', 'wakes', 'walk', 'walked', 'walking', 'walks', 'wall', 'walls', 'wanna', 'want', 'wanted', 'wanting', 'war', 'warm', 'warn', 'warpath', 'wars', 'was', 'washed', 'wasn', 'waste', 'wasted', 'wasting', 'watch', 'watched', 'watches', 'watching', 'water', 'wave', 'wax', 'way', 'we', 'weak', 'weaker', 'weakness', 'weapons', 'wear', 'wearing', 'wears', 'weather', 'wednesday', 'week', 'weekend', 'weeks', 'welcome', 'well', 'went', 'were', 'weren', 'west', 'what', 'whatcha', 'whatever', 'wheel', 'when', 'whenever', 'where', 'which', 'while', 'whippin', 'whiskey', 'whisper', 'whispered', 'whispers', 'white', 'who', 'whoa', 'whole', 'whose', 'why', 'wide', 'wild', 'wildest', 'wildfire', 'will', 'win', 'wind', 'window', 'windows', 'wine', 'wink', 'wish', 'wished', 'wishful', 'wishing', 'witches', 'with', 'without', 'woke', 'won', 'wonder', 'wondered', 'wonderful', 'wonderin', 'wondering', 'wonderland', 'wonderstruck', 'woods', 'word', 'words', 'wore', 'work', 'worked', 'working', 'works', 'world', 'worlds', 'worn', 'worry', 'worrying', 'worse', 'worst', 'worth', 'worthwhile', 'would', 'wouldn', 'wound', 'wounded', 'wounds', 'wrapped', 'write', 'writing', 'wrong', 'wrote', 'x7', 'x8', 'ya', 'yacht', 'yard', 'yay', 'yeah', 'year', 'years', 'yelling', 'yes', 'yesterday', 'yet', 'york', 'you', 'young', 'younger', 'your', 'yours', 'yourself']\n"
     ]
    }
   ],
   "source": [
    "from sklearn.feature_extraction.text import CountVectorizer\n",
    "vectorizer = CountVectorizer()\n",
    "raw_text=[raw_text]\n",
    "Xis = vectorizer.fit_transform(raw_text)\n",
    "print(vectorizer.get_feature_names())"
   ]
  },
  {
   "cell_type": "code",
   "execution_count": 64,
   "metadata": {},
   "outputs": [
    {
     "name": "stdout",
     "output_type": "stream",
     "text": [
      "{'he': 887, 'said': 1635, 'the': 1980, 'way': 2187, 'my': 1270, 'blue': 186, 'eyes': 624, 'shined': 1702, 'put': 1508, 'those': 2002, 'georgia': 779, 'stars': 1853, 'to': 2029, 'shame': 1693, 'that': 1979, 'night': 1298, 'lie': 1096, 'just': 1026, 'boy': 209, 'in': 979, 'chevy': 326, 'truck': 2079, 'had': 852, 'tendency': 1973, 'of': 1331, 'gettin': 784, 'stuck': 1901, 'on': 1340, 'backroads': 110, 'at': 96, 'and': 65, 'was': 2174, 'right': 1589, 'there': 1985, 'beside': 160, 'him': 925, 'all': 51, 'summer': 1910, 'long': 1133, 'then': 1984, 'time': 2024, 'we': 2188, 'woke': 2245, 'up': 2120, 'find': 679, 'gone': 811, 'but': 256, 'when': 2211, 'you': 2295, 'think': 1993, 'tim': 2023, 'mcgraw': 1199, 'hope': 946, 'favorite': 652, 'song': 1804, 'one': 1342, 'danced': 447, 'moon': 1249, 'like': 1106, 'spotlight': 1831, 'lake': 1062, 'happiness': 872, 'little': 1120, 'black': 172, 'dress': 532, 'head': 888, 'your': 2298, 'chest': 325, 'old': 1338, 'faded': 627, 'jeans': 1012, 'me': 1200, 'september': 1681, 'saw': 1644, 'month': 1247, 'tears': 1965, 'thankin': 1978, 'god': 805, 'weren': 2205, 'here': 916, 'see': 1671, 'box': 207, 'beneath': 159, 'bed': 136, 'is': 999, 'letter': 1091, 'never': 1291, 'read': 1536, 'from': 755, 'three': 2007, 'summers': 1911, 'back': 109, 'it': 1004, 'hard': 874, 'not': 1311, 'bittersweet': 171, 'lookin': 1136, 'nice': 1296, 'believe': 152, 'for': 723, 'first': 690, 'since': 1739, 'standin': 1843, 'street': 1892, 'left': 1084, 'doorstep': 516, 'thing': 1991, 'll': 1125, 'someday': 1798, 'turn': 2092, 'radio': 1518, 'takes': 1944, 'place': 1438, 'oh': 1334, 'mmmm': 1239, 'shine': 1701, 'state': 1858, 'obvious': 1326, 'didn': 489, 'get': 781, 'perfect': 1417, 'fantasy': 645, 'realize': 1540, 'love': 1147, 'yourself': 2300, 'more': 1250, 'than': 1977, 'could': 391, 'ever': 598, 'so': 1792, 'go': 804, 'tell': 1968, 'friends': 754, 'obsessive': 1325, 'crazy': 403, 'fine': 682, 'mine': 1224, 're': 1532, 'gay': 777, 'by': 260, 'hate': 880, 'stupid': 1905, 'pickup': 1428, 'let': 1089, 'drive': 540, 'redneck': 1558, 'heartbreak': 898, 'who': 2222, 'really': 1543, 'bad': 112, 'lying': 1162, 'watch': 2180, 'strike': 1895, 'match': 1193, 'wasted': 2178, 'as': 90, 'far': 646, 'concerned': 373, 'another': 67, 'picture': 1429, 'burn': 245, 'no': 1306, 'sitting': 1750, 'planning': 1445, 'revenge': 1579, 'nothing': 1316, 'stopping': 1876, 'going': 807, 'out': 1359, 'with': 2243, 'best': 161, 'if': 970, 'come': 364, 'around': 89, 'saying': 1647, 'sorry': 1808, 'daddy': 443, 'gonna': 812, 'show': 1720, 'how': 958, 'be': 127, 'missing': 1232, 'better': 163, 'keep': 1029, 'cause': 300, 'coming': 368, 'would': 2271, 'health': 892, 'case': 292, 'haven': 885, 'heard': 894, 'baby': 108, 'drew': 536, 'looks': 1138, 'fake': 634, 'smile': 1780, 'won': 2246, 'want': 2166, 'needing': 1288, 'everything': 603, 'should': 1716, 'bet': 162, 'she': 1698, 'beautiful': 131, 'girl': 788, 'talks': 1949, 'about': 15, 'got': 817, 'have': 884, 'live': 1121, 'without': 2244, 'laugh': 1071, 'damn': 445, 'funny': 763, 'can': 274, 'even': 597, 'anyone': 74, 'says': 1648, 'finally': 678, 'wonder': 2247, 'knows': 1059, 'reason': 1545, 'teardrops': 1964, 'guitar': 845, 'only': 1344, 'keeps': 1031, 'wishing': 2241, 'star': 1846, 'car': 282, 'singing': 1741, 'don': 512, 'know': 1056, 'why': 2226, 'do': 507, 'walks': 2162, 'breathe': 223, 'goes': 806, 'perfectly': 1418, 'kind': 1039, 'flawless': 701, 'wish': 2238, 'hold': 935, 'tight': 2018, 'give': 792, 'her': 915, 'look': 1134, 'lucky': 1156, 'home': 942, 'alone': 53, 'off': 1332, 'light': 1101, 'his': 929, 'down': 520, 'maybe': 1198, 'some': 1796, 'sleep': 1764, 'tonight': 2036, 'enough': 594, 'break': 217, 'heart': 895, 'taken': 1942, 'need': 1286, 'fall': 637, 'into': 995, 'what': 2207, 'ask': 92, 'still': 1867, 'trying': 2087, 'figure': 674, 'this': 2000, 'road': 1594, 'walking': 2161, 'through': 2009, 'rain': 1520, 'though': 2003, 'feels': 660, 'own': 1369, 'strong': 1897, 'wrong': 2279, 'life': 1098, 'world': 2262, 'wearing': 2194, 'sleeve': 1767, 'feeling': 658, 'today': 2031, 'sunshine': 1915, 'tomorrow': 2034, 'mystery': 1272, 'yeah': 2287, 'ok': 1336, 'mission': 1233, 'ready': 1538, 'fly': 713, 'easily': 567, 'take': 1941, 'very': 2140, 'start': 1854, 'fight': 671, 'feel': 657, 'something': 1801, 'wanted': 2167, 'rainy': 1524, 'ending': 590, 'given': 793, 'day': 464, 'walk': 2159, 'away': 103, 'use': 2127, 'defending': 480, 'words': 2256, 'will': 2231, 'say': 1645, 'now': 1320, 'thinking': 1995, 've': 2135, 'been': 140, 'anywhere': 77, 'cold': 358, 'walls': 2164, 'paint': 1378, 'them': 1983, 'shade': 1686, 'gray': 826, 'stood': 1873, 'loving': 1154, 'wished': 2239, 'great': 827, 'story': 1881, 'mess': 1212, 'dreamer': 529, 'nerve': 1289, 'adore': 31, 'did': 488, 'honey': 945, 'cried': 408, 'wouldn': 2272, 'told': 2033, 'nobody': 1307, 'died': 491, 'every': 599, 'condescending': 374, 'counting': 395, 'scars': 1654, 'made': 1164, 'went': 2203, 'looking': 1137, 'between': 164, 'lines': 1109, 'nowhere': 1321, 'tried': 2073, 'less': 1087, 'traveled': 2065, 'seems': 1674, 'work': 2258, 'few': 667, 'times': 2025, 'am': 58, 'try': 2085, 'lets': 1090, 'ain': 44, 'view': 2142, 'outside': 1362, 'lot': 1145, 'lonely': 1132, 'places': 1439, 'knew': 1052, 'part': 1392, 'too': 2037, 'late': 1068, 'helped': 914, 'notices': 1318, 'until': 2119, 'anything': 75, 'doesn': 509, 'beauty': 132, 'face': 625, 'mirror': 1227, 'pretty': 1481, 'true': 2080, 'losing': 1143, 'water': 2184, 'high': 922, 'jumping': 1022, 'letting': 1093, 'cry': 426, 'might': 1218, 'golden': 809, 'tied': 2016, 'together': 2032, 'undone': 2115, 'guess': 842, 'giving': 795, 'extra': 619, 'change': 309, 'hoping': 950, 'end': 587, 'pocket': 1456, 'leaves': 1082, 'penny': 1415, 'price': 1483, 'pay': 1411, 'goodbye': 814, 'cory': 389, 'are': 83, 'jungle': 1024, 'smiles': 1782, 'whispers': 2220, 'songs': 1805, 'window': 2234, 'these': 1987, 'girls': 790, 'corner': 387, 'they': 1988, 'does': 508, 'piece': 1431, 'someone': 1800, 'looked': 1135, 'lead': 1076, 'door': 514, 'stay': 1859, 'finds': 681, 'highlight': 924, 'taking': 1945, 'pictures': 1430, 'mind': 1220, 'save': 1642, 'make': 1173, 'conversation': 383, 'breath': 222, 'hey': 918, 'gets': 783, 'daydream': 465, 'least': 1080, 'front': 756, 'la': 1060, 'na': 1273, 'strange': 1885, 'used': 2128, 'sing': 1740, 'flowers': 711, 'yesterday': 2292, 'found': 740, 'chance': 306, 'moment': 1241, 'weakness': 2191, 'yes': 2291, 'thought': 2004, 'twice': 2098, 'fore': 727, 'word': 2255, 'bout': 206, 'shouldn': 1719, 'asking': 94, 'myself': 1271, 'begging': 145, 'forgiveness': 733, 'feet': 661, 'crying': 428, 'things': 1992, 'honestly': 944, 'expect': 614, 'same': 1639, 'past': 1401, 'resist': 1575, 'before': 142, 'worth': 2269, 'seven': 1685, 'were': 2204, 'nine': 1303, 'sky': 1761, 'lights': 1105, 'our': 1356, 'daddies': 442, 'joke': 1016, 'two': 2104, 'us': 2126, 'growing': 837, 'falling': 638, 'mamas': 1178, 'smiled': 1781, 'rolled': 1601, 'their': 1981, 'house': 957, 'backyard': 111, 'tree': 2068, 'beat': 129, 'bigger': 166, 'block': 182, 'wide': 2227, 'dared': 451, 'kiss': 1044, 'ran': 1525, 'kids': 1036, 'well': 2202, 'sixteen': 1752, 'suddenly': 1908, 'wasn': 2176, 'believed': 153, 'creek': 404, 'beds': 139, 'turned': 2093, 'riding': 1588, 'next': 1295, 'slamming': 1762, 'doors': 515, 'instead': 993, 'kissing': 1047, 'goodnight': 815, 'stayed': 1860, 'till': 2021, 'morning': 1251, 'years': 2289, 'spot': 1830, 'town': 2047, 'knee': 1049, 'walked': 2160, 'aisle': 47, 'whole': 2224, 'came': 272, 'where': 2213, 'met': 1214, 'many': 1181, 'rock': 1597, 'babies': 107, 'porch': 1467, 'after': 34, 'eighty': 577, 'shotgun': 1714, 'hair': 855, 'seat': 1666, 'hand': 862, 'steering': 1863, 'wheel': 2210, 'other': 1354, 'screen': 1662, 'sneakin': 1786, 'tapping': 1954, 'phone': 1422, 'talk': 1946, 'real': 1539, 'slow': 1773, 'mama': 1177, 'date': 459, 'man': 1179, 'amen': 60, 'play': 1447, 'again': 35, 'steps': 1866, 'trampled': 2063, 'lost': 1144, 'thrown': 2012, 'hallway': 860, 'lovin': 1153, 'almost': 52, 'notice': 1317, 'roses': 1609, 'note': 1313, 'album': 48, 'listened': 1117, 'waited': 2154, 'along': 54, 'good': 813, 'laughs': 1073, 'grabbed': 822, 'pen': 1414, 'an': 64, 'napkin': 1279, 'wrote': 2280, 'friday': 752, 'field': 668, 'behind': 149, 'yard': 2285, 'painting': 1380, 'sometimes': 1802, 'listen': 1116, 'crickets': 407, 'side': 1726, 'wanna': 2165, 'ground': 835, 'matter': 1195, 'half': 856, 'small': 1775, 'living': 1124, 'isn': 1001, 'hide': 920, 'secrets': 1670, 'or': 1352, 'deepest': 479, 'fears': 655, 'anybody': 72, 'else': 581, 'uh': 2107, 'huh': 960, 'stop': 1874, 'stare': 1847, 'whenever': 2212, 'wanting': 2168, 'miracle': 1226, 'unbelievable': 2108, 'invisible': 997, 'fire': 686, 'inside': 990, 'help': 913, 'shadows': 1688, 'open': 1348, 'tear': 1963, 'apart': 78, 'scar': 1649, 'seen': 1675, 'signs': 1733, 'writing': 2278, 'wall': 2163, 'realized': 1541, 'distance': 503, 'sense': 1679, 'unbroken': 2109, 'anymore': 73, 'rained': 1521, 'glow': 802, 'pavement': 1410, 'dance': 446, 'middle': 1215, 'parking': 1391, 'driving': 543, 'caught': 299, 'cool': 384, 'run': 1622, 'hands': 863, 'absent': 17, 'mindedly': 1221, 'making': 1176, 'drag': 522, 'fearless': 654, 'storm': 1879, 'til': 2020, 'horse': 952, 'passenger': 1397, 'capture': 281, 'remember': 1564, 'doorway': 517, 'shake': 1690, 'usually': 2131, 'pull': 1500, 'brave': 216, 'deep': 478, 'hi': 919, 'while': 2215, 'everybody': 600, 'freshman': 750, 'year': 2288, 'four': 741, 'senior': 1678, 'boys': 211, 'wink': 2237, 'because': 133, 'fifteen': 669, 'somebody': 1797, 'tells': 1970, 'count': 393, 'ten': 1972, 'sit': 1748, 'class': 341, 'redhead': 1557, 'named': 1277, 'abigail': 14, 'soon': 1806, 'laughing': 1072, 'outta': 1364, 'flying': 715, 'momma': 1243, 'waiting': 2155, 'dancing': 448, 'round': 1612, 'room': 1607, 'ends': 592, 'makes': 1174, 'spin': 1826, 'greater': 828, 'dating': 462, 'football': 721, 'team': 1962, 'swore': 1937, 'marry': 1187, 'dreams': 531, 'gave': 776, 'changed': 310, 'both': 202, 'forget': 730, 'heal': 891, 'most': 1254, 'supposed': 1917, 'young': 2296, 'close': 347, 'flashback': 697, 'starts': 1857, 'standing': 1844, 'balcony': 116, 'air': 45, 'party': 1394, 'ball': 117, 'gowns': 820, 'crowd': 416, 'hello': 911, 'romeo': 1605, 'throwing': 2011, 'pebbles': 1413, 'juliet': 1019, 'staircase': 1838, 'please': 1455, 'somewhere': 1803, 'prince': 1485, 'princess': 1486, 'sneak': 1784, 'garden': 772, 'quiet': 1515, 'dead': 467, 'escape': 596, 'scarlet': 1652, 'difficult': 493, 'afraid': 33, 'tired': 2028, 'wondering': 2251, 'faith': 633, 'fading': 629, 'outskirts': 1363, 'knelt': 1051, 'pulled': 1501, 'ring': 1590, 'talked': 1947, 'dad': 441, 'pick': 1424, 'white': 2221, 'stephen': 1865, 'deceiving': 474, 'talking': 1948, 'tossing': 2042, 'rocks': 1598, 'believing': 154, 'always': 57, 'angel': 66, 'magic': 1168, 'mmm': 1238, 'holding': 937, 'name': 1276, 'wonderful': 2249, 'people': 1416, 'leaving': 1083, 'dimming': 495, 'aren': 84, 'near': 1283, 'fifty': 670, 'reasons': 1546, 'choose': 333, 'write': 2277, 'comes': 365, 'paced': 1371, 'forth': 735, 'holdin': 936, 'days': 466, 'shoulda': 1717, 'known': 1058, 'fairytale': 632, 'sweep': 1925, 'stairwell': 1840, 'hollywood': 940, 'naive': 1275, 'mistake': 1234, 'upper': 2122, 'happy': 873, 'endings': 591, 'knees': 1050, 'beggin': 144, 'actually': 28, 'treat': 2067, 'big': 165, 'rear': 1544, 'disappearing': 499, 'catch': 296, 'whoa': 2223, 'girlfriend': 789, 'upset': 2123, 'humor': 962, 'typical': 2106, 'tuesday': 2090, 'listening': 1118, 'music': 1268, 'wears': 2195, 'short': 1712, 'skirts': 1760, 'wear': 2193, 'shirts': 1708, 'cheer': 321, 'captain': 279, 'bleachers': 176, 'dreaming': 530, 'wake': 2157, 'has': 877, 'understands': 2114, 'belong': 155, 'streets': 1893, 'worn': 2264, 'ought': 1355, 'park': 1390, 'bench': 158, 'easy': 569, 'brought': 236, 'whatcha': 2208, 'doing': 511, 'heels': 905, 'sneakers': 1785, 'none': 1310, 'minds': 1223, 'killing': 1038, 'mm': 1236, 'playing': 1453, 'sad': 1632, 'movie': 1263, 'tragedy': 2056, 'bring': 232, 'simple': 1737, 'clean': 344, 'hurt': 965, 'bump': 243, 'swerve': 1928, 'friend': 753, 'eh': 575, 'took': 2038, 'shot': 1713, 'bulletproof': 242, 'swing': 1931, 'sick': 1725, 'attitude': 98, 'cut': 436, 'heartbeat': 896, 'mean': 1201, 'streak': 1889, 'cover': 396, 'temper': 1971, 'last': 1065, 'book': 199, 'ruin': 1617, 'confused': 378, 'frustrated': 759, 'push': 1505, 'step': 1864, 'wasting': 2179, 'chances': 307, 'figured': 675, 'call': 266, 'straw': 1888, 'innocent': 987, 'loved': 1148, 'hadn': 853, 'share': 1696, 'being': 151, 'worked': 2259, 'each': 562, 'crawling': 402, 'bright': 231, 'watched': 2181, 'fade': 626, 'beg': 143, 'sensible': 1680, 'incredible': 980, 'single': 1742, 'jealous': 1010, 'hear': 893, 'couldn': 392, 'opens': 1349, 'miss': 1230, 'screaming': 1660, 'fighting': 672, '2am': 6, 'cursing': 434, 'act': 25, 'insane': 988, 'breaking': 221, 'roller': 1602, 'coaster': 353, 'rush': 1626, 'much': 1267, 'respects': 1576, 'space': 1814, 'wait': 2153, 'calls': 270, 'exactly': 607, 'mother': 1256, 'business': 254, 'father': 651, 'charming': 314, 'endearing': 588, 'comfortable': 366, 'faking': 636, 'wild': 2228, 'frustrating': 760, 'intoxicating': 996, 'complicated': 370, 'acted': 26, 'once': 1341, 'upon': 2121, 'eye': 621, 'onto': 1345, 'kidding': 1035, 'speak': 1818, 'welcome': 2201, 'happened': 870, 'second': 1667, 'halfway': 857, 'hasn': 878, 'called': 267, 'low': 1155, 'forever': 728, 'rains': 1522, 'bedroom': 138, 'line': 1108, 'honest': 943, 'scared': 1650, 'minute': 1225, 'sure': 1918, 'silence': 1734, 'cuts': 437, 'core': 386, 'five': 692, 'getting': 785, 'coat': 354, 'smiling': 1783, 'pumpkin': 1503, 'patch': 1404, 'tractor': 2053, 'rides': 1586, 'gold': 808, 'hug': 959, 'legs': 1086, 'asleep': 95, 'trees': 2069, 'snow': 1789, 'thirteen': 1999, 'grab': 821, 'keys': 1033, 'shop': 1711, 'forgotten': 734, 'names': 1278, 'school': 1656, 'ride': 1585, 'okay': 1337, 'excellent': 608, 'strength': 1894, 'stronger': 1898, 'brother': 235, 'grew': 830, 'video': 2141, 'set': 1683, 'kitchen': 1048, 'age': 37, 'princesses': 1487, 'pirate': 1435, 'ships': 1706, 'dwarfs': 559, 'smart': 1776, 'prettiest': 1480, 'lady': 1061, 'staying': 1861, 'watching': 2183, 'final': 677, 'blow': 185, 'hits': 932, 'repeating': 1570, 'history': 930, 'whatever': 2209, 'revolution': 1580, 'win': 2232, 'hallelujah': 859, 'outnumbered': 1360, 'raided': 1519, 'cornered': 388, 'fair': 631, 'finding': 680, 'faster': 649, 'stand': 1842, 'battle': 126, 'lives': 1123, 'champions': 305, 'fell': 662, 'throw': 2010, 'sang': 1641, 'college': 360, 'working': 2260, 'tables': 1939, 'flight': 705, 'risk': 1592, 'fear': 653, 'bother': 203, 'lasts': 1067, 'couch': 390, 'arm': 86, 'rebel': 1547, 'careless': 287, 'careful': 286, 'daughter': 463, 'flash': 696, 'forward': 738, 'drawer': 526, 'learn': 1078, 'guarded': 841, 'parents': 1389, 'mistakes': 1235, 'bills': 167, 'city': 340, '30': 7, 'slipping': 1771, 'followed': 718, 'braced': 212, 'surprise': 1920, 'leave': 1081, 'felt': 664, 'move': 1260, 'full': 761, 'rainstorm': 1523, 'cards': 284, 'reckless': 1551, 'send': 1677, 'running': 1624, 'kinda': 1040, 'touch': 2043, 'drop': 544, 'meet': 1204, 'pouring': 1468, 'sidewalk': 1729, 'pain': 1377, 'sparks': 1817, 'green': 829, 'haunt': 882, 'forgets': 731, 'remind': 1567, 'idea': 969, 'imagined': 975, 'guard': 840, 'rest': 1578, 'patiently': 1408, 'fingers': 684, 'keeping': 1030, 'whisper': 2218, 'soft': 1794, 'captivated': 280, 'firework': 688, 'glad': 796, 'family': 643, 'busier': 253, 'weather': 2196, 'burned': 246, 'die': 490, 'swallowing': 1922, 'pride': 1484, 'december': 475, 'turns': 2095, 'freedom': 748, 'alright': 56, 'sleeping': 1765, 'birthday': 168, 'passed': 1396, 'dark': 452, 'crept': 406, 'tan': 1952, 'skin': 1756, 'sweet': 1926, 'held': 908, 'arms': 88, 'wishful': 2240, 'probably': 1491, 'mindless': 1222, 'swear': 1924, 'chain': 301, 'understand': 2113, 'rudely': 1616, 'barging': 121, 'veil': 2136, 'occasion': 1327, 'marrying': 1188, 'snotty': 1788, 'dressed': 533, 'pastel': 1402, 'yelling': 2290, 'bridesmaid': 228, 'gown': 819, 'shaped': 1695, 'pastry': 1403, 'surely': 1919, 'lose': 1141, 'church': 336, 'vow': 2149, 'fond': 719, 'gestures': 780, 'exchanged': 610, 'organ': 1353, 'sounds': 1812, 'death': 472, 'march': 1183, 'hiding': 921, 'curtains': 435, 'uninvited': 2116, 'lovely': 1149, 'bride': 227, 'floats': 706, 'pageant': 1376, 'queen': 1511, 'ooh': 1347, 'da': 440, 'preacher': 1470, 'peace': 1412, 'shaking': 1692, 'horrified': 951, 'everyone': 602, 'hehe': 906, 'tux': 2096, 'vows': 2150, 'nights': 1300, 'revolved': 1581, 'footsteps': 722, 'praying': 1469, 'floor': 708, 'accused': 19, 'lived': 1122, 'chess': 324, 'game': 769, 'rules': 1620, 'everyday': 601, 'wonderin': 2250, 'which': 2214, 'version': 2139, 'stopped': 1875, 'pickin': 1426, 'dear': 471, 'john': 1014, 'messed': 1213, 'blind': 179, 'optimism': 1351, 'blame': 173, 'add': 29, 'list': 1115, 'traitors': 2061, 'regret': 1561, 'ignored': 972, 'fast': 648, 'nineteen': 1305, 'played': 1449, 'twisted': 2101, 'games': 770, 'expert': 617, 'blurry': 189, 'impressed': 978, 'acing': 23, 'tests': 1976, 'dry': 555, 'lifeless': 1099, 'matches': 1194, 'shining': 1704, 'fireworks': 689, 'over': 1365, 'empty': 584, 'knives': 1054, 'swords': 1936, 'weapons': 2192, 'against': 36, 'knocked': 1055, 'voice': 2148, 'nails': 1274, 'chalkboard': 303, 'calling': 269, 'wounded': 2274, 'picking': 1427, 'weaker': 2190, 'hit': 931, 'gotta': 818, 'switching': 1935, 'sides': 1727, 'wildfire': 2230, 'lies': 1097, 'humiliation': 961, 'pointed': 1460, 'flaws': 702, 'already': 55, 'impress': 977, 'pushed': 1506, 'cycle': 438, 'bar': 120, 'loud': 1146, 'opinion': 1350, 'washed': 2175, 'ranting': 1528, 'bitter': 170, 'drunk': 554, 'grumbling': 839, 'liar': 1094, 'pathetic': 1406, 'flew': 703, 'instantly': 992, 'ones': 1343, 'searching': 1665, 'lately': 1069, 'page': 1375, 'complication': 371, 'miscommunications': 1228, 'fallout': 639, 'crowded': 417, 'speaking': 1819, 'dying': 561, 'twist': 2100, 'fate': 650, 'broke': 233, 'chapter': 313, 'nervously': 1290, 'pulling': 1502, 'clothes': 349, 'busy': 255, 'avoid': 101, 'starting': 1856, 'pretending': 1478, 'quite': 1516, 'contest': 381, 'care': 285, 'liked': 1107, 'lay': 1075, 'armor': 87, 'rather': 1530, 'wrapped': 2276, 'finger': 683, 'eyelids': 623, 'flutter': 712, 'tuck': 2089, 'darling': 458, 'grow': 836, 'desert': 484, 'movies': 1264, 'mortified': 1252, 'mom': 1240, 'dropping': 546, '14': 1, 'shots': 1715, 'older': 1339, 'pj': 1437, 'scarred': 1653, 'childhood': 327, 'memorize': 1207, 'sounded': 1811, 'new': 1292, 'apartment': 79, 'dropped': 545, 'colder': 359, 'grown': 838, 'forcing': 726, 'laughter': 1074, 'insincerity': 991, 'shifting': 1700, 'vacancy': 2132, 'vanished': 2134, 'enchanting': 586, 'whispered': 2219, 'across': 24, 'silhouette': 1736, 'its': 1005, 'playful': 1451, 'counter': 394, 'quick': 1514, 'remarks': 1563, 'passing': 1398, 'notes': 1314, 'secrecy': 1668, 'enchanted': 585, 'sparkling': 1816, 'wonderstruck': 2253, 'blushing': 190, 'spend': 1821, 'lingering': 1110, 'question': 1513, 'kept': 1032, 'awake': 102, 'pacing': 1374, 'storyline': 1882, 'thoughts': 2005, 'echo': 570, 'ha': 850, 'hot': 955, 'applause': 82, 'sabotage': 1630, 'suspected': 1921, 'underestimated': 2111, 'dealing': 469, 'beating': 130, 'drum': 553, 'stealing': 1862, 'saint': 1636, 'actress': 27, 'mattress': 1196, 'toys': 2049, 'playground': 1452, 'trend': 2070, 'present': 1474, 'frown': 757, 'troubling': 2078, 'thinks': 1996, 'psycho': 1499, 'rhyme': 1582, 'sophistication': 1807, 'pushing': 1507, 'teach': 1961, 'prep': 1473, 'amount': 62, 'vintage': 2146, 'dresses': 534, 'gives': 794, 'dignity': 494, 'roll': 1600, 'ah': 40, 'deserve': 485, 'warpath': 2172, 'balance': 115, 'tightrope': 2019, 'easier': 566, 'lunchbox': 1157, 'crawl': 401, 'string': 1896, 'shattered': 1697, 'firefly': 687, 'catching': 297, 'reach': 1533, 'monsters': 1246, 'ohwho': 1335, 'tough': 2046, '32': 8, 'flames': 695, 'embers': 583, 'septembers': 1682, 'brand': 215, 'fragile': 744, 'trust': 2081, 'mon': 1244, 'terribly': 1975, 'haunted': 883, 'finish': 685, 'started': 1855, 'lit': 1119, 'darkness': 456, '58': 11, 'recall': 1549, 'smell': 1778, 'fresh': 749, 'plane': 1443, 'july': 1020, '9th': 12, 'jumps': 1023, 'shirt': 1707, 'lips': 1112, 'showing': 1722, 'handshake': 864, 'meeting': 1205, 'pockets': 1457, 'kissed': 1045, 'rude': 1615, 'interruptions': 994, 'sun': 1912, 'shines': 1703, 'reminds': 1568, 'plan': 1442, 'planned': 1444, 'changing': 312, 'crowds': 418, 'stands': 1845, 'kings': 1043, 'queens': 1512, 'hero': 917, 'decade': 473, 'crashed': 399, 'kingdom': 1042, 'pretenders': 1477, 'remembered': 1565, 'traded': 2054, 'baseball': 122, 'cap': 278, 'crown': 419, 'trophies': 2076, 'cynics': 439, 'outraged': 1361, 'absurd': 18, 'band': 118, 'thieves': 1990, 'ripped': 1591, 'rule': 1619, 'mountains': 1259, 'moved': 1261, 'dragons': 523, 'spinning': 1827, 'confetti': 377, 'falls': 640, 'may': 1197, 'memories': 1206, 'promise': 1493, 'forbid': 724, 'force': 725, 'children': 328, 'point': 1459, 'elevator': 580, 'buttons': 258, 'strangers': 1887, 'stairs': 1839, 'vacant': 2133, 'stares': 1848, 'theirs': 1982, 'disapproves': 500, 'judge': 1018, 'verdict': 2138, 'jury': 1025, 'choice': 331, 'worry': 2265, 'stakes': 1841, 'rough': 1611, 'ours': 1357, 'sleeves': 1768, 'ghosts': 787, 'jump': 1021, 'lurking': 1159, 'lip': 1111, 'gloss': 801, 'speculate': 1820, 'doubt': 519, 'gap': 771, 'teeth': 1967, 'riddles': 1584, 'any': 71, 'snide': 1787, 'tattoos': 1957, 'yours': 2299, 'six': 1751, 'months': 1248, 'reaching': 1535, 'thousand': 2006, 'thinkin': 1994, 'somehow': 1799, 'happen': 869, 'hall': 858, 'chasing': 316, 'moving': 1266, 'locked': 1128, 'tall': 1950, 'superman': 1916, 'puts': 1509, 'papers': 1384, 'briefcase': 230, 'drives': 541, 'ambition': 59, 'hang': 867, 'yay': 2286, 'irrational': 998, 'brown': 237, 'sayin': 1646, 'reputation': 1572, 'struck': 1899, 'card': 283, 'traffic': 2055, 'hurts': 966, 'bleeds': 177, 'fades': 628, 'pierce': 1433, 'cannon': 277, 'slates': 1763, 'twin': 2099, 'shades': 1687, 'mosaic': 1253, 'broken': 234, 'hearts': 901, 'grace': 823, 'worthwhile': 2270, 'ruthless': 1629, 'unless': 2117, 'achilles': 21, 'heel': 904, 'maserati': 1191, 'wind': 2233, 'passionate': 1399, 'sin': 1738, 'free': 747, 'colors': 362, 'autumn': 99, 'grey': 831, 'forgetting': 732, 'red': 1556, 'touching': 2045, 'realizing': 1542, 'memorizing': 1208, 'knowing': 1057, 'solve': 1795, 'crossword': 415, 'answer': 68, 'regretting': 1562, 'remembering': 1566, 'flashbacks': 698, 'echoes': 572, 'impossible': 976, 'burning': 248, 'focus': 716, 'gravity': 825, 'sand': 1640, 'slope': 1772, 'treacherous': 2066, 'path': 1405, 'decide': 476, 'swept': 1927, 'sound': 1810, 'bone': 196, 'trained': 2059, 'flow': 710, 'friction': 751, 'headlights': 889, 'sleepless': 1766, 'echoed': 571, 'safe': 1634, 'follow': 717, 'dangerous': 450, 'ago': 39, 'sights': 1731, 'trouble': 2077, 'apologies': 80, 'pretends': 1479, 'drowning': 551, 'notch': 1312, 'belt': 157, 'saddest': 1633, 'creeping': 405, 'scarf': 1651, 'sister': 1747, 'disposition': 502, 'eyed': 622, 'gaze': 778, 'upstate': 2125, 'pieces': 1432, 'photo': 1423, 'cheeks': 320, 'turning': 2094, 'kid': 1034, 'glasses': 798, 'sized': 1754, 'telling': 1969, 'stories': 1878, 'tee': 1966, 'taught': 1958, 'future': 767, 'needed': 1287, 'refrigerator': 1560, 'translation': 2064, 'asked': 93, 'masterpiece': 1192, 'tore': 2040, 'casually': 294, 'cruel': 420, 'crumpled': 424, 'paper': 1383, 'paralyzed': 1387, 'self': 1676, 'plaid': 1440, 'mail': 1172, 'week': 2198, 'innocence': 986, 'smells': 1779, 'rid': 1583, 'rare': 1529, 'hipsters': 928, 'fun': 762, 'exes': 612, 'breakfast': 219, 'midnight': 1216, 'miserable': 1229, 'magical': 1169, 'deadlines': 468, '22': 5, 'taylor': 1960, 'swift': 1929, 'anyway': 76, 'ew': 605, 'ditch': 504, 'scene': 1655, 'heartbreaks': 900, 'news': 1294, 'chair': 302, 'everytime': 604, 'either': 578, 'reply': 1571, 'occurred': 1328, 'babe': 106, 'confess': 376, 'sittin': 1749, '203d': 4, 'lasted': 1066, 'fights': 673, 'indie': 982, 'record': 1554, 'cooler': 385, 'exhausting': 613, 'threw': 2008, 'expecting': 615, 'dramatic': 525, 'unresolved': 2118, 'helmet': 912, 'mad': 1163, 'dated': 460, 'indulgent': 983, 'takers': 1943, 'problems': 1492, 'carry': 288, 'groceries': 833, 'hopes': 949, 'hanging': 868, 'occurring': 1329, 'haha': 854, 'eee': 574, 'roads': 1595, 'imagine': 974, 'fuss': 766, 'top': 2039, 'blink': 181, 'apology': 81, 'disappear': 497, 'aching': 22, 'gary': 773, 'lightbody': 1102, 'ho': 934, 'reminiscing': 1569, 'having': 886, 'coffee': 357, 'lord': 1140, 'glance': 797, 'york': 2294, 'fit': 691, 'poems': 1458, 'skip': 1757, 'holy': 941, 'ourselves': 1358, 'blocked': 183, 'noise': 1308, 'usual': 2130, 'dust': 558, 'handwritten': 866, 'tracks': 2052, 'locket': 1129, 'hopeful': 947, 'tragic': 2057, 'affair': 32, 'warm': 2170, 'different': 492, 'cities': 339, 'erasing': 595, 'demons': 482, 'timing': 2026, 'breakdown': 218, 'train': 2058, 'runs': 1625, 'fix': 693, 'fortune': 737, 'fame': 641, 'camera': 273, 'flashes': 699, 'dream': 527, 'loves': 1152, 'overnight': 1367, 'sixties': 1753, 'diamonds': 487, 'cars': 290, 'riviera': 1593, 'views': 2143, 'lover': 1150, 'foyer': 743, 'splashed': 1829, 'alive': 50, 'later': 1070, 'showed': 1721, 'legend': 1085, 'disappeared': 498, 'money': 1245, 'hell': 909, 'bought': 205, 'bunch': 244, 'land': 1063, 'chose': 334, 'rose': 1608, 'madison': 1165, 'square': 1833, '18': 3, 'hours': 956, 'freckles': 746, 'painted': 1379, 'stomach': 1872, 'butterflies': 257, 'missed': 1231, 'highest': 923, 'marvelous': 1189, 'tune': 2091, 'nines': 1304, 'starlight': 1850, 'bobby': 194, 'boardwalk': 192, '45': 9, 'picked': 1425, '17': 2, 'snuck': 1791, 'yacht': 2284, 'club': 351, 'duchess': 556, 'worrying': 2266, 'blues': 187, 'ocean': 1330, 'married': 1186, 'em': 582, 'wore': 2257, 'lock': 1127, 'headphones': 890, 'early': 563, 'wave': 2185, 'spending': 1822, 'eight': 576, 'wednesday': 2197, 'cafe': 263, 'begin': 146, 'james': 1009, 'records': 1555, 'shy': 1723, 'watches': 2182, 'christmas': 335, 'burst': 250, 'million': 1219, 'aligned': 49, 'glisten': 799, 'ticking': 2013, 'comb': 363, 'memory': 1209, 'motion': 1257, 'lipstick': 1113, 'pass': 1395, 'seem': 1672, 'bathroom': 124, 'sinking': 1744, 'hopelessly': 948, 'streaming': 1891, 'means': 1202, 'stumbled': 1904, 'attached': 97, 'sinks': 1745, 'delicate': 481, 'beginning': 147, 'nonchalant': 1309, 'taxi': 1959, 'cabs': 262, 'london': 1131, 'cruelest': 421, 'worlds': 2263, 'responsibility': 1577, 'upstanding': 2124, 'code': 356, 'closer': 348, 'crossing': 414, 'proposition': 1496, 'exception': 609, 'previously': 1482, 'learned': 1079, 'waits': 2156, 'chase': 315, 'newest': 1293, 'granted': 824, 'cab': 261, 'number': 1322, 'consider': 380, 'lesson': 1088, 'village': 2144, 'aglow': 38, 'kaleidoscope': 1027, 'heartbeats': 897, 'under': 2110, 'coats': 355, 'soundtrack': 1813, 'forevermore': 729, 'bags': 114, 'floors': 709, 'guessing': 844, 'madness': 1166, 'heaven': 903, 'ayy': 105, 'suit': 1909, 'tie': 2015, 'magazine': 1167, 'rumors': 1621, 'dyin': 560, 'passport': 1400, 'guys': 849, 'weekend': 2199, 'ex': 606, 'lovers': 1151, 'players': 1450, 'breathless': 224, 'hmm': 933, 'nasty': 1281, 'blank': 174, 'cherry': 322, 'crystal': 429, 'skies': 1755, 'stolen': 1871, 'kisses': 1046, 'king': 1041, 'worst': 2268, 'yet': 2293, 'storms': 1880, 'filled': 676, 'thorns': 2001, 'guessin': 843, 'jealousy': 1011, 'nightmare': 1299, 'torture': 2041, 'warn': 2171, 'ya': 2283, 'paradise': 1386, 'leads': 1077, 'dean': 470, 'classic': 342, 'crashing': 400, 'style': 1906, 'slicked': 1770, 'skirt': 1759, 'polaroid': 1464, 'discovered': 501, 'color': 361, 'woods': 2254, 'clear': 346, 'built': 240, 'necklace': 1285, 'neck': 1284, 'decided': 477, 'furniture': 765, 'airplanes': 46, 'brakes': 214, 'twenty': 2097, 'stitches': 1868, 'hospital': 953, 'heat': 902, 'setting': 1684, 'drove': 549, 'palm': 1381, 'aside': 91, 'ended': 589, 'ahh': 42, 'oo': 1346, 'brain': 213, 'dates': 461, 'cruisin': 422, 'movin': 1265, 'haters': 881, 'heartbreakers': 899, 'fakers': 635, 'lightning': 1104, 'moves': 1262, 'groovin': 834, 'liars': 1095, 'dirty': 496, 'cheats': 317, 'fella': 663, 'hella': 910, 'mmhm': 1237, '00': 0, 'windows': 2235, 'straight': 1883, 'ahead': 41, 'hung': 963, 'pane': 1382, 'crooked': 412, 'x7': 2281, 'x8': 2282, 'blood': 184, 'done': 513, 'trusted': 2082, 'shiny': 1705, 'rusted': 1628, 'weak': 2189, 'rub': 1614, 'salt': 1637, 'wound': 2273, 'wounds': 2275, 'aids': 43, 'bullet': 241, 'holes': 939, 'handsome': 865, 'begins': 148, 'condition': 375, 'staring': 1849, 'sunset': 1914, 'rosy': 1610, 'wildest': 2229, 'aah': 13, 'haa': 851, 'familiar': 642, 'request': 1574, 'hindsight': 927, 'tangled': 1953, 'burnin': 247, 'pretend': 1475, 'ghost': 786, 'works': 2261, 'worse': 2267, 'frames': 745, 'must': 1269, 'tides': 2014, 'darker': 454, 'currents': 432, 'silent': 1735, 'screams': 1661, 'dreamed': 528, 'struggle': 1900, 'lantern': 1064, 'flickered': 704, 'grip': 832, 'permanent': 1419, 'mark': 1184, 'glowing': 803, 'cheek': 319, 'waistline': 2152, 'plain': 1441, 'sight': 1730, 'sign': 1732, 'happens': 871, 'vultures': 2151, 'circling': 337, 'clouds': 350, 'flame': 694, 'cages': 265, 'boxes': 208, 'guns': 848, 'hunters': 964, 'foxes': 742, 'tails': 1940, 'track': 2051, 'fences': 666, 'loose': 1139, 'sink': 1743, 'drought': 548, 'thirst': 1998, 'wine': 2236, 'stained': 1837, 'war': 2169, 'trace': 2050, 'covered': 397, 'punched': 1504, 'hole': 938, 'roof': 1606, 'flood': 707, 'lungs': 1158, 'screamed': 1658, 'sober': 1793, 'admit': 30, 'flashing': 700, 'rabbit': 1517, 'control': 382, 'becomes': 135, 'curious': 431, 'exciting': 611, 'twistin': 2102, 'slept': 1769, 'wonderland': 2252, 'pretended': 1476, 'ey': 620, 'seemed': 1673, 'calm': 271, 'cheshire': 323, 'cat': 295, 'twisting': 2103, 'loses': 1142, 'darlin': 457, 'reached': 1534, 'searched': 1664, 'meant': 1203, 'lighthearted': 1103, 'proof': 1495, 'reflects': 1559, 'shoulders': 1718, 'brush': 238, 'burnt': 249, 'toast': 2030, 'sunday': 1913, 'wakes': 2158, 'pauses': 1409, 'snowglobe': 1790, 'office': 1333, 'downtown': 521, 'fought': 739, 'wars': 2173, 'spent': 1824, 'bored': 200, 'trains': 2060, 'letters': 1092, 'dumb': 557, 'mascara': 1190, 'classroom': 343, 'build': 239, 'castle': 293, 'bricks': 226, 'romantics': 1604, 'national': 1282, 'anthem': 69, 'proudly': 1498, 'blinding': 180, 'poker': 1463, 'ace': 20, 'danger': 449, 'switch': 1933, 'changer': 311, 'terrible': 1974, 'stranded': 1884, 'romantic': 1603, 'killer': 1037, 'wondered': 2248, 'phantom': 1421, 'ransom': 1527, 'tryin': 2086, 'younger': 2297, 'such': 1907, 'vendetta': 2137, 'ta': 1938, 'gon': 810, 'island': 1000, 'breeze': 225, 'robber': 1596, 'thief': 1989, 'join': 1015, 'heist': 907, 'jailer': 1008, 'burton': 251, 'comparison': 369, 'failure': 630, 'tame': 1951, 'reputations': 1573, 'enemies': 593, 'git': 791, 'dope': 518, 'overdose': 1366, 'stoked': 1869, 'whippin': 2216, 'boat': 193, 'precede': 1471, 'g5': 768, 'persona': 1420, 'type': 2105, 'protect': 1497, 'amp': 63, 'drinking': 539, 'beach': 128, 'tryna': 2088, 'reconnected': 1553, 'bit': 169, 'sprung': 1832, 'issues': 1003, 'chips': 330, 'precedes': 1472, 'truth': 2084, 'ignore': 971, 'argue': 85, 'traits': 2062, 'ease': 565, 'paranoia': 1388, 'insecurities': 989, 'choices': 332, 'deny': 483, 'born': 201, '4th': 10, 'tip': 2027, 'tongue': 2035, 'bang': 119, 'bury': 252, 'hatchets': 879, 'maps': 1182, 'drama': 524, 'prints': 1488, 'soul': 1809, 'liquor': 1114, 'body': 195, 'bluff': 188, 'tricks': 2072, 'ed': 573, 'sheeran': 1699, 'narcissist': 1280, 'violin': 2147, 'crimson': 411, 'shit': 1709, 'owe': 1368, 'playboy': 1448, 'saved': 1643, 'comin': 367, 'drops': 547, 'nothin': 1315, 'spends': 1823, 'witches': 2242, 'pitchforks': 1436, 'receipts': 1550, 'doin': 510, 'drug': 552, 'usin': 2129, 'breakin': 220, 'toyin': 2048, 'playthings': 1454, 'darkest': 455, 'shakin': 1691, 'pacin': 1373, 'cross': 413, 'waste': 2177, 'halo': 861, 'obsession': 1324, 'poison': 1461, 'ivy': 1006, 'daisy': 444, 'trip': 2074, 'touchin': 2044, 'promises': 1494, 'drink': 537, 'dive': 505, 'east': 568, 'nightstand': 1301, 'nikes': 1302, 'chill': 329, 'third': 1997, 'west': 2206, 'mansion': 1180, 'tilted': 2022, 'stage': 1836, 'role': 1599, 'fool': 720, 'crime': 409, 'gun': 846, 'smarter': 1777, 'harder': 875, 'nick': 1297, 'underlined': 2112, 'check': 318, 'belonged': 156, 'feast': 656, 'karma': 1028, 'trusts': 2083, 'starring': 1851, 'magician': 1170, 'cage': 264, 'hostage': 954, 'feelings': 659, 'trippin': 2075, 'illusionist': 973, 'skippin': 1758, 'scratches': 1657, 'gorgeous': 816, 'compliment': 372, 'consequence': 379, 'magnetic': 1171, 'boyfriend': 210, 'whiskey': 2217, 'ice': 967, 'vine': 2145, 'ruined': 1618, 'furious': 764, 'darkened': 453, 'drown': 550, 'stumble': 1903, 'cats': 298, 'getaway': 782, 'crimes': 410, 'blew': 178, 'ties': 2017, 'candlelight': 276, 'marks': 1185, 'poisoned': 1462, 'lyin': 1161, 'fashioned': 647, 'cursed': 433, 'drivin': 542, 'flyin': 714, 'ridin': 1587, 'sirens': 1746, 'prison': 1490, 'drinkin': 538, 'runnin': 1623, 'screamin': 1659, 'sideshow': 1728, 'circus': 338, 'himself': 926, 'jet': 1013, 'bonnie': 198, 'clyde': 352, 'switched': 1934, 'si': 1724, 'ide': 968, 'motel': 1255, 'bag': 113, 'stole': 1870, 'cryin': 427, 'bein': 150, 'weeks': 2200, 'callin': 268, 'salute': 1638, 'american': 61, 'motown': 1258, 'expensive': 616, 'range': 1526, 'rovers': 1613, 'jaguars': 1007, 'secret': 1669, 'priorities': 1489, 'taste': 1955, 'luxury': 1160, 'bones': 197, 'mending': 1211, 'crush': 425, 'beer': 141, 'plastic': 1446, 'cups': 430, 'fancy': 644, 'stuff': 1902, 'frozen': 758, 'sacred': 1631, 'oasis': 1323, 'putting': 1510, 'paces': 1372, 'spite': 1828, 'divide': 506, 'avalanche': 100, 'swaying': 1923, 'rushes': 1627, 'moments': 1242, 'indentation': 981, 'shape': 1694, 'tattoo': 1956, 'patience': 1407, 'pining': 1434, 'anticipation': 70, 'desperately': 486, 'stops': 1877, 'carve': 291, 'bedpost': 137, 'inescapable': 984, 'electrified': 579, 'spilling': 1825, 'bathtub': 125, 'buzzcut': 259, 'bleached': 175, 'rebounds': 1548, 'earthquakes': 564, 'lifeline': 1100, 'explain': 618, 'parties': 1393, 'pool': 1466, 'swimming': 1930, 'champagne': 304, 'sea': 1663, 'bass': 123, 'rattling': 1531, 'chandelier': 308, 'gatsby': 775, 'parade': 1385, 'locking': 1130, 'gates': 774, 'stabbed': 1835, 'therein': 1986, 'issue': 1002, 'trick': 2071, 'axe': 104, 'mended': 1210, 'fence': 665, 'shady': 1689, 'reading': 1537, 'crumbled': 423, 'knife': 1053, 'gunfight': 847, 'stream': 1890, 'above': 16, 'boarded': 191, 'swings': 1932, 'jokers': 1017, 'dressing': 535, 'bridges': 229, 'makin': 1175, 'forts': 736, 'covers': 398, 'starry': 1852, 'sparkin': 1815, 'initial': 985, 'owns': 1370, 'november': 1319, 'slowly': 1774, 'glitter': 800, 'carrying': 289, 'shoes': 1710, 'lobby': 1126, 'candle': 275, 'wax': 2186, 'polaroids': 1465, 'hardwood': 876, 'midnights': 1217, 'cleaning': 345, 'bottles': 204, 'squeeze': 1834, 'become': 134, 'stranger': 1886, 'whose': 2225, 'recognize': 1552}\n"
     ]
    }
   ],
   "source": [
    "cloud_text = vectorizer.vocabulary_\n",
    "print (vectorizer.vocabulary_)\n"
   ]
  },
  {
   "cell_type": "code",
   "execution_count": 65,
   "metadata": {
    "collapsed": true
   },
   "outputs": [],
   "source": [
    "from wordcloud import WordCloud, STOPWORDS, ImageColorGenerator\n",
    "\n",
    "import matplotlib.pyplot as plt"
   ]
  },
  {
   "cell_type": "code",
   "execution_count": 96,
   "metadata": {},
   "outputs": [
    {
     "ename": "ValueError",
     "evalue": "We need at least 1 word to plot a word cloud, got 0.",
     "output_type": "error",
     "traceback": [
      "\u001b[0;31m---------------------------------------------------------------------------\u001b[0m",
      "\u001b[0;31mValueError\u001b[0m                                Traceback (most recent call last)",
      "\u001b[0;32m<ipython-input-96-e671f8e6b627>\u001b[0m in \u001b[0;36m<module>\u001b[0;34m()\u001b[0m\n\u001b[1;32m     10\u001b[0m                           \u001b[0mmax_font_size\u001b[0m\u001b[0;34m=\u001b[0m\u001b[0;36m40\u001b[0m\u001b[0;34m,\u001b[0m\u001b[0;34m\u001b[0m\u001b[0m\n\u001b[1;32m     11\u001b[0m                           \u001b[0mrandom_state\u001b[0m\u001b[0;34m=\u001b[0m\u001b[0;36m42\u001b[0m\u001b[0;34m\u001b[0m\u001b[0m\n\u001b[0;32m---> 12\u001b[0;31m                          ).generate(str(Xis[0]))\n\u001b[0m\u001b[1;32m     13\u001b[0m \u001b[0;34m\u001b[0m\u001b[0m\n\u001b[1;32m     14\u001b[0m \u001b[0;31m# Display the generated image:\u001b[0m\u001b[0;34m\u001b[0m\u001b[0;34m\u001b[0m\u001b[0m\n",
      "\u001b[0;32m~/anaconda3/lib/python3.6/site-packages/wordcloud/wordcloud.py\u001b[0m in \u001b[0;36mgenerate\u001b[0;34m(self, text)\u001b[0m\n\u001b[1;32m    603\u001b[0m         \u001b[0mself\u001b[0m\u001b[0;34m\u001b[0m\u001b[0m\n\u001b[1;32m    604\u001b[0m         \"\"\"\n\u001b[0;32m--> 605\u001b[0;31m         \u001b[0;32mreturn\u001b[0m \u001b[0mself\u001b[0m\u001b[0;34m.\u001b[0m\u001b[0mgenerate_from_text\u001b[0m\u001b[0;34m(\u001b[0m\u001b[0mtext\u001b[0m\u001b[0;34m)\u001b[0m\u001b[0;34m\u001b[0m\u001b[0m\n\u001b[0m\u001b[1;32m    606\u001b[0m \u001b[0;34m\u001b[0m\u001b[0m\n\u001b[1;32m    607\u001b[0m     \u001b[0;32mdef\u001b[0m \u001b[0m_check_generated\u001b[0m\u001b[0;34m(\u001b[0m\u001b[0mself\u001b[0m\u001b[0;34m)\u001b[0m\u001b[0;34m:\u001b[0m\u001b[0;34m\u001b[0m\u001b[0m\n",
      "\u001b[0;32m~/anaconda3/lib/python3.6/site-packages/wordcloud/wordcloud.py\u001b[0m in \u001b[0;36mgenerate_from_text\u001b[0;34m(self, text)\u001b[0m\n\u001b[1;32m    585\u001b[0m         \"\"\"\n\u001b[1;32m    586\u001b[0m         \u001b[0mwords\u001b[0m \u001b[0;34m=\u001b[0m \u001b[0mself\u001b[0m\u001b[0;34m.\u001b[0m\u001b[0mprocess_text\u001b[0m\u001b[0;34m(\u001b[0m\u001b[0mtext\u001b[0m\u001b[0;34m)\u001b[0m\u001b[0;34m\u001b[0m\u001b[0m\n\u001b[0;32m--> 587\u001b[0;31m         \u001b[0mself\u001b[0m\u001b[0;34m.\u001b[0m\u001b[0mgenerate_from_frequencies\u001b[0m\u001b[0;34m(\u001b[0m\u001b[0mwords\u001b[0m\u001b[0;34m)\u001b[0m\u001b[0;34m\u001b[0m\u001b[0m\n\u001b[0m\u001b[1;32m    588\u001b[0m         \u001b[0;32mreturn\u001b[0m \u001b[0mself\u001b[0m\u001b[0;34m\u001b[0m\u001b[0m\n\u001b[1;32m    589\u001b[0m \u001b[0;34m\u001b[0m\u001b[0m\n",
      "\u001b[0;32m~/anaconda3/lib/python3.6/site-packages/wordcloud/wordcloud.py\u001b[0m in \u001b[0;36mgenerate_from_frequencies\u001b[0;34m(self, frequencies, max_font_size)\u001b[0m\n\u001b[1;32m    381\u001b[0m         \u001b[0;32mif\u001b[0m \u001b[0mlen\u001b[0m\u001b[0;34m(\u001b[0m\u001b[0mfrequencies\u001b[0m\u001b[0;34m)\u001b[0m \u001b[0;34m<=\u001b[0m \u001b[0;36m0\u001b[0m\u001b[0;34m:\u001b[0m\u001b[0;34m\u001b[0m\u001b[0m\n\u001b[1;32m    382\u001b[0m             raise ValueError(\"We need at least 1 word to plot a word cloud, \"\n\u001b[0;32m--> 383\u001b[0;31m                              \"got %d.\" % len(frequencies))\n\u001b[0m\u001b[1;32m    384\u001b[0m         \u001b[0mfrequencies\u001b[0m \u001b[0;34m=\u001b[0m \u001b[0mfrequencies\u001b[0m\u001b[0;34m[\u001b[0m\u001b[0;34m:\u001b[0m\u001b[0mself\u001b[0m\u001b[0;34m.\u001b[0m\u001b[0mmax_words\u001b[0m\u001b[0;34m]\u001b[0m\u001b[0;34m\u001b[0m\u001b[0m\n\u001b[1;32m    385\u001b[0m \u001b[0;34m\u001b[0m\u001b[0m\n",
      "\u001b[0;31mValueError\u001b[0m: We need at least 1 word to plot a word cloud, got 0."
     ]
    }
   ],
   "source": [
    "# Create and generate a word cloud image:\n",
    "# text = data.lyric[1]\n",
    "\n",
    "# wordcloud = WordCloud().generate(text)\n",
    "\n",
    "\n",
    "wordcloud = WordCloud(\n",
    "                          background_color='white',\n",
    "                          max_words=200,\n",
    "                          max_font_size=40, \n",
    "                          random_state=42\n",
    "                         ).generate(str(raw_text[0]))\n",
    "\n",
    "# Display the generated image:\n",
    "plt.imshow(wordcloud, interpolation='bilinear')\n",
    "plt.axis(\"off\")\n",
    "plt.show()"
   ]
  },
  {
   "cell_type": "code",
   "execution_count": null,
   "metadata": {
    "collapsed": true
   },
   "outputs": [],
   "source": []
  }
 ],
 "metadata": {
  "kernelspec": {
   "display_name": "Python 3",
   "language": "python",
   "name": "python3"
  },
  "language_info": {
   "codemirror_mode": {
    "name": "ipython",
    "version": 3
   },
   "file_extension": ".py",
   "mimetype": "text/x-python",
   "name": "python",
   "nbconvert_exporter": "python",
   "pygments_lexer": "ipython3",
   "version": "3.6.3"
  }
 },
 "nbformat": 4,
 "nbformat_minor": 2
}
