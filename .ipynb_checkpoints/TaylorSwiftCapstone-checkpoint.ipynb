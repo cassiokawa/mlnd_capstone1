{
 "cells": [
  {
   "cell_type": "code",
   "execution_count": 9,
   "metadata": {},
   "outputs": [
    {
     "data": {
      "text/plain": [
       "'\\nTesting using Kaggle Taylor Swift song catalog to use Baggle of Words, TF-IDF for NLP code\\n'"
      ]
     },
     "execution_count": 9,
     "metadata": {},
     "output_type": "execute_result"
    }
   ],
   "source": [
    "import numpy as np\n",
    "import pandas as pd\n",
    "import matplotlib as mpl\n",
    "import sklearn\n",
    "\n",
    "'''\n",
    "Testing using Kaggle Taylor Swift song catalog to use Baggle of Words, TF-IDF for NLP code\n",
    "'''"
   ]
  },
  {
   "cell_type": "code",
   "execution_count": 10,
   "metadata": {},
   "outputs": [],
   "source": [
    "# Pulling data from Kaggle\n",
    "# !pip install -U -q kaggle\n",
    "# !mkdir -p ~/.kaggle\n",
    "\n",
    "# from google.colab import files\n",
    "# files.upload()\n",
    "\n",
    "# !cp kaggle.json ~/.kaggle/"
   ]
  },
  {
   "cell_type": "code",
   "execution_count": 11,
   "metadata": {},
   "outputs": [],
   "source": [
    "# !kaggle datasets list\n",
    "# !chmod 600 /root/.kaggle/kaggle.json\n",
    "\n",
    "# !kaggle datasets download -d PromptCloudHQ/taylor-swift-song-lyrics-from-all-the-albums\n",
    "# !ls"
   ]
  },
  {
   "cell_type": "code",
   "execution_count": 35,
   "metadata": {},
   "outputs": [],
   "source": [
    "# Importing data with pandas\n",
    "# import pandas as pd\n",
    "# data2 = pd.read_csv('taylor-swift-song-lyrics-from-all-the-albums.zip', compression='zip', header=0, sep=',', quotechar='\"')"
   ]
  },
  {
   "cell_type": "code",
   "execution_count": 36,
   "metadata": {},
   "outputs": [],
   "source": [
    "# Import the dependencies\n",
    "import numpy as np\n",
    "import pandas as pd\n",
    "import sys \n",
    "from keras.models import Sequential\n",
    "from keras.layers import LSTM, Activation, Flatten, Dropout, Dense, Embedding, TimeDistributed, CuDNNLSTM\n",
    "from keras.callbacks import ModelCheckpoint\n",
    "from keras.utils import np_utils"
   ]
  },
  {
   "cell_type": "code",
   "execution_count": 40,
   "metadata": {},
   "outputs": [
    {
     "data": {
      "text/html": [
       "<div>\n",
       "<style>\n",
       "    .dataframe thead tr:only-child th {\n",
       "        text-align: right;\n",
       "    }\n",
       "\n",
       "    .dataframe thead th {\n",
       "        text-align: left;\n",
       "    }\n",
       "\n",
       "    .dataframe tbody tr th {\n",
       "        vertical-align: top;\n",
       "    }\n",
       "</style>\n",
       "<table border=\"1\" class=\"dataframe\">\n",
       "  <thead>\n",
       "    <tr style=\"text-align: right;\">\n",
       "      <th></th>\n",
       "      <th>artist</th>\n",
       "      <th>album</th>\n",
       "      <th>track_title</th>\n",
       "      <th>track_n</th>\n",
       "      <th>lyric</th>\n",
       "      <th>line</th>\n",
       "      <th>year</th>\n",
       "    </tr>\n",
       "  </thead>\n",
       "  <tbody>\n",
       "    <tr>\n",
       "      <th>0</th>\n",
       "      <td>Taylor Swift</td>\n",
       "      <td>Taylor Swift</td>\n",
       "      <td>Tim McGraw</td>\n",
       "      <td>1</td>\n",
       "      <td>He said the way my blue eyes shined</td>\n",
       "      <td>1</td>\n",
       "      <td>2006</td>\n",
       "    </tr>\n",
       "    <tr>\n",
       "      <th>1</th>\n",
       "      <td>Taylor Swift</td>\n",
       "      <td>Taylor Swift</td>\n",
       "      <td>Tim McGraw</td>\n",
       "      <td>1</td>\n",
       "      <td>Put those Georgia stars to shame that night</td>\n",
       "      <td>2</td>\n",
       "      <td>2006</td>\n",
       "    </tr>\n",
       "    <tr>\n",
       "      <th>2</th>\n",
       "      <td>Taylor Swift</td>\n",
       "      <td>Taylor Swift</td>\n",
       "      <td>Tim McGraw</td>\n",
       "      <td>1</td>\n",
       "      <td>I said, \"That's a lie\"</td>\n",
       "      <td>3</td>\n",
       "      <td>2006</td>\n",
       "    </tr>\n",
       "    <tr>\n",
       "      <th>3</th>\n",
       "      <td>Taylor Swift</td>\n",
       "      <td>Taylor Swift</td>\n",
       "      <td>Tim McGraw</td>\n",
       "      <td>1</td>\n",
       "      <td>Just a boy in a Chevy truck</td>\n",
       "      <td>4</td>\n",
       "      <td>2006</td>\n",
       "    </tr>\n",
       "    <tr>\n",
       "      <th>4</th>\n",
       "      <td>Taylor Swift</td>\n",
       "      <td>Taylor Swift</td>\n",
       "      <td>Tim McGraw</td>\n",
       "      <td>1</td>\n",
       "      <td>That had a tendency of gettin' stuck</td>\n",
       "      <td>5</td>\n",
       "      <td>2006</td>\n",
       "    </tr>\n",
       "  </tbody>\n",
       "</table>\n",
       "</div>"
      ],
      "text/plain": [
       "         artist         album track_title  track_n  \\\n",
       "0  Taylor Swift  Taylor Swift  Tim McGraw        1   \n",
       "1  Taylor Swift  Taylor Swift  Tim McGraw        1   \n",
       "2  Taylor Swift  Taylor Swift  Tim McGraw        1   \n",
       "3  Taylor Swift  Taylor Swift  Tim McGraw        1   \n",
       "4  Taylor Swift  Taylor Swift  Tim McGraw        1   \n",
       "\n",
       "                                         lyric  line  year  \n",
       "0          He said the way my blue eyes shined     1  2006  \n",
       "1  Put those Georgia stars to shame that night     2  2006  \n",
       "2                       I said, \"That's a lie\"     3  2006  \n",
       "3                  Just a boy in a Chevy truck     4  2006  \n",
       "4         That had a tendency of gettin' stuck     5  2006  "
      ]
     },
     "execution_count": 40,
     "metadata": {},
     "output_type": "execute_result"
    }
   ],
   "source": [
    "# from zipfile import ZipFile\n",
    "# zip_file = ZipFile('taylor-swift-song-lyrics-from-all-the-albums.zip')\n",
    "fields= ['artist','album', 'year','track_title', 'track_n','line', 'lyric'] \n",
    "# data=pd.read_csv('taylor_swift_lyrics.csv',encoding='utf-8')\n",
    "data=pd.read_csv('taylor_swift_lyrics.csv',encoding='cp1252')\n",
    "\n",
    "data.head()"
   ]
  },
  {
   "cell_type": "code",
   "execution_count": 41,
   "metadata": {
    "collapsed": true
   },
   "outputs": [],
   "source": [
    "dataset = data\n",
    "\n",
    "\n",
    "dataset.head()\n",
    "dataset.describe()\n",
    "\n",
    "\n",
    "# Quite a bit of data pre-processing before we can apply any NLP algo.  In order to create a text with all lyrics in one string it is necessary to concatenate the lines of each song.\n",
    "def concat1stLine(lyrics, songID, songNM, row):\n",
    "    lyrics.append(row['lyric'] + '\\n')\n",
    "    songID.append( row['year']*100+ row['track_n'])\n",
    "    songNM.append(row['track_title'])\n",
    "    return lyrics,songID,songNM"
   ]
  },
  {
   "cell_type": "code",
   "execution_count": null,
   "metadata": {
    "collapsed": true
   },
   "outputs": [],
   "source": [
    "# create collections \n",
    "lyrics = []\n",
    "songID = []\n",
    "songNM = []\n",
    "\n",
    "# songNum indicates the song number in the dataset\n",
    "songNum = 1\n",
    "\n",
    "# i indicates the song number\n",
    "i = 0\n",
    "isFirstLine = True\n"
   ]
  },
  {
   "cell_type": "code",
   "execution_count": null,
   "metadata": {
    "collapsed": true
   },
   "outputs": [],
   "source": [
    "# join sentences into lyrics \n",
    "for index,row in dataset.iterrows():\n",
    "    if(songNum == row['track_n']):\n",
    "        # new song         \n",
    "        if (isFirstLine):\n",
    "            lyrics,songID,songNM = concat1stLine(lyrics,songID,songNM,row)\n",
    "            isFirstLine = False\n",
    "        else :\n",
    "        #same song concat lines and enter next\n",
    "            lyrics[i] +=  row['lyric'] + '\\n'\n",
    "          \n",
    "    #next song :    \n",
    "    else :\n",
    "        lyrics,songID,songNM = concat1stLine(lyrics,songID,songNM,row)\n",
    "        songNum = row['track_n']\n",
    "        i=i+1\n"
   ]
  },
  {
   "cell_type": "code",
   "execution_count": null,
   "metadata": {
    "collapsed": true
   },
   "outputs": [],
   "source": [
    "# Define a new pandas DataFrame to save songID , songNM , Lyrics in it to use them later\n",
    "lyrics_data = pd.DataFrame({'songID':songID, 'songNM':songNM, 'lyrics':lyrics })\n",
    "\n",
    "# Now save the lyrics in a text file to use it in the LSTM RNN\n",
    "\n",
    "# Save Lyrics in .txt file\n",
    "with open('lyricsText.txt', 'w') as filehandle:  \n",
    "\n",
    "# with open('lyricsText.txt', 'w',encoding=\"utf-8\") as filehandle:  \n",
    "    for listitem in lyrics:\n",
    "        filehandle.write('%s\\n' % listitem)\n"
   ]
  },
  {
   "cell_type": "code",
   "execution_count": null,
   "metadata": {
    "collapsed": true
   },
   "outputs": [],
   "source": [
    "# Load the dataset and convert it to lowercase :\n",
    "textFileName = 'lyricsText.txt'\n",
    "# raw_text = open(textFileName, encoding = 'UTF-8').read()\n",
    "raw_text = open(textFileName).read()\n",
    "\n",
    "raw_text = raw_text.lower()\n"
   ]
  },
  {
   "cell_type": "code",
   "execution_count": null,
   "metadata": {
    "collapsed": true
   },
   "outputs": [],
   "source": [
    "# Mapping chars to ints :\n",
    "chars = sorted(list(set(raw_text)))\n",
    "int_chars = dict((i, c) for i, c in enumerate(chars))\n",
    "chars_int = dict((i, c) for c, i in enumerate(chars))\n",
    "\n",
    "\n",
    "# Get number of chars and vocab in our text :\n",
    "n_chars = len(raw_text)\n",
    "n_vocab = len(chars)\n",
    "\n",
    "print('Total Characters : ' , n_chars) # number of all the characters in lyricsText.txt\n",
    "print('Total Vocab : ', n_vocab) # number of unique characters\n"
   ]
  },
  {
   "cell_type": "code",
   "execution_count": null,
   "metadata": {
    "collapsed": true
   },
   "outputs": [],
   "source": [
    "# process the dataset:\n",
    "seq_len = 100\n",
    "data_X = []\n",
    "data_y = []\n",
    "\n",
    "for i in range(0, n_chars - seq_len, 1):\n",
    "    # Input Sequeance(will be used as samples)\n",
    "    seq_in  = raw_text[i:i+seq_len]\n",
    "    # Output sequence (will be used as target)\n",
    "    seq_out = raw_text[i + seq_len]\n",
    "    # Store samples in data_X\n",
    "    data_X.append([chars_int[char] for char in seq_in])\n",
    "    # Store targets in data_y\n",
    "    data_y.append(chars_int[seq_out])\n",
    "n_patterns = len(data_X)\n",
    "print( 'Total Patterns : ', n_patterns)\n"
   ]
  },
  {
   "cell_type": "code",
   "execution_count": null,
   "metadata": {
    "collapsed": true
   },
   "outputs": [],
   "source": [
    "# Reshape X to be suitable to go into LSTM RNN :\n",
    "X = np.reshape(data_X , (n_patterns, seq_len, 1))\n",
    "# Normalizing input data :\n",
    "X = X/ float(n_vocab)\n",
    "# One hot encode the output targets :\n",
    "y = np_utils.to_categorical(data_y)\n"
   ]
  },
  {
   "cell_type": "code",
   "execution_count": null,
   "metadata": {
    "collapsed": true
   },
   "outputs": [],
   "source": [
    "LSTM_layer_num = 4 # number of LSTM layers\n",
    "layer_size = [256,256,256,256] # number of nodes in each layer\n"
   ]
  }
 ],
 "metadata": {
  "kernelspec": {
   "display_name": "Python 3",
   "language": "python",
   "name": "python3"
  },
  "language_info": {
   "codemirror_mode": {
    "name": "ipython",
    "version": 3
   },
   "file_extension": ".py",
   "mimetype": "text/x-python",
   "name": "python",
   "nbconvert_exporter": "python",
   "pygments_lexer": "ipython3",
   "version": "3.6.3"
  }
 },
 "nbformat": 4,
 "nbformat_minor": 2
}
